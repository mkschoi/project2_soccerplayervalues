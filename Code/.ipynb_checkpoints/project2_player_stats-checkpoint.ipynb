{
 "cells": [
  {
   "cell_type": "markdown",
   "metadata": {},
   "source": [
    "## Metis Project 2 - Predicting Market Values of Soccer Players in the Top 5 European Leagues Using Linear Regression\n",
    "\n",
    "### Creating a Dataframe of Player Stats (Features):\n",
    "\n",
    "#### 1. Standard Stats - League, Position, Age, Matches Played, Starts, Goals, Assists, Yellow Cards, Red Cards\n",
    "#### 2. Shooting Stats - Total Shots, Shots on Target\n",
    "#### 3. Passing Stats - Passes Completed, Passes Attempted, Key Passes (passes that directly lead to a shot), Completed Passes into Penalty Area\n",
    "#### 4. Possession Stats - Number of Players Dribbled Past, Dribbles into Penalty Area\n"
   ]
  },
  {
   "cell_type": "code",
   "execution_count": 1,
   "metadata": {},
   "outputs": [],
   "source": [
    "import scrape_utils as su\n",
    "import pandas as pd\n",
    "import numpy as np"
   ]
  },
  {
   "cell_type": "markdown",
   "metadata": {},
   "source": [
    "<u> 2017-2018 Stats URLs </u>\n",
    "\n",
    "Standard Stats URL: https://fbref.com/en/comps/Big5/2017-2018/stats/players/2017-2018-Big-5-European-Leagues-Stats  \n",
    "Shooting Stats URL: https://fbref.com/en/comps/Big5/2017-2018/shooting/players/2017-2018-Big-5-European-Leagues-Stats  \n",
    "Passing Stats URL: https://fbref.com/en/comps/Big5/2017-2018/passing/players/2017-2018-Big-5-European-Leagues-Stats  \n",
    "Goal & Shot Creating Stats URL: https://fbref.com/en/comps/Big5/2017-2018/gca/players/2017-2018-Big-5-European-Leagues-Stats  \n",
    "Possession Stats URL: https://fbref.com/en/comps/Big5/2017-2018/possession/players/2017-2018-Big-5-European-Leagues-Stats"
   ]
  },
  {
   "cell_type": "markdown",
   "metadata": {},
   "source": [
    "### 1. Standard Stats - League, Position, Age, Matches Played, Starts, Goals, Assists, Yellow Cards, Red Cards"
   ]
  },
  {
   "cell_type": "code",
   "execution_count": 2,
   "metadata": {},
   "outputs": [],
   "source": [
    "player_stats_stand_17_18 = su.standard_table('https://fbref.com/en/comps/Big5/2017-2018/stats/players/2017-2018-Big-5-European-Leagues-Stats')"
   ]
  },
  {
   "cell_type": "code",
   "execution_count": 3,
   "metadata": {},
   "outputs": [
    {
     "data": {
      "text/html": [
       "<div>\n",
       "<style scoped>\n",
       "    .dataframe tbody tr th:only-of-type {\n",
       "        vertical-align: middle;\n",
       "    }\n",
       "\n",
       "    .dataframe tbody tr th {\n",
       "        vertical-align: top;\n",
       "    }\n",
       "\n",
       "    .dataframe thead th {\n",
       "        text-align: right;\n",
       "    }\n",
       "</style>\n",
       "<table border=\"1\" class=\"dataframe\">\n",
       "  <thead>\n",
       "    <tr style=\"text-align: right;\">\n",
       "      <th></th>\n",
       "      <th>League</th>\n",
       "      <th>Position</th>\n",
       "      <th>Age</th>\n",
       "      <th>Matches Played</th>\n",
       "      <th>Starts</th>\n",
       "      <th>90s Played</th>\n",
       "      <th>Goals</th>\n",
       "      <th>Assists</th>\n",
       "      <th>Yellow Cards</th>\n",
       "      <th>Red Cards</th>\n",
       "    </tr>\n",
       "  </thead>\n",
       "  <tbody>\n",
       "    <tr>\n",
       "      <th>Kylian Mbappé</th>\n",
       "      <td>fr Ligue 1</td>\n",
       "      <td>FW</td>\n",
       "      <td>18</td>\n",
       "      <td>27</td>\n",
       "      <td>24</td>\n",
       "      <td>23.3</td>\n",
       "      <td>13</td>\n",
       "      <td>9</td>\n",
       "      <td>2</td>\n",
       "      <td>0</td>\n",
       "    </tr>\n",
       "    <tr>\n",
       "      <th>Kylian Mbappé</th>\n",
       "      <td>fr Ligue 1</td>\n",
       "      <td>FW,MF</td>\n",
       "      <td>18</td>\n",
       "      <td>1</td>\n",
       "      <td>1</td>\n",
       "      <td>0.8</td>\n",
       "      <td>0</td>\n",
       "      <td>0</td>\n",
       "      <td>0</td>\n",
       "      <td>0</td>\n",
       "    </tr>\n",
       "  </tbody>\n",
       "</table>\n",
       "</div>"
      ],
      "text/plain": [
       "                   League Position Age  Matches Played  Starts  90s Played  \\\n",
       "Kylian Mbappé  fr Ligue 1       FW  18              27      24        23.3   \n",
       "Kylian Mbappé  fr Ligue 1    FW,MF  18               1       1         0.8   \n",
       "\n",
       "               Goals  Assists  Yellow Cards  Red Cards  \n",
       "Kylian Mbappé     13        9             2          0  \n",
       "Kylian Mbappé      0        0             0          0  "
      ]
     },
     "execution_count": 3,
     "metadata": {},
     "output_type": "execute_result"
    }
   ],
   "source": [
    "player_stats_stand_17_18.loc[['Kylian Mbappé']]"
   ]
  },
  {
   "cell_type": "code",
   "execution_count": 4,
   "metadata": {},
   "outputs": [],
   "source": [
    "player_stats_stand_17_18['League'] = player_stats_stand_17_18['League'].apply(su.convert_league)\n",
    "player_stats_stand_17_18['Age'] = player_stats_stand_17_18['Age'].apply(su.convert_int)\n",
    "player_stats_stand_17_18.dropna(inplace=True) # only one player with NaN for Age so simply drop those rows"
   ]
  },
  {
   "cell_type": "code",
   "execution_count": 5,
   "metadata": {},
   "outputs": [
    {
     "data": {
      "text/plain": [
       "Index(['League', 'Position', 'Age', 'Matches Played', 'Starts', '90s Played',\n",
       "       'Goals', 'Assists', 'Yellow Cards', 'Red Cards'],\n",
       "      dtype='object')"
      ]
     },
     "execution_count": 5,
     "metadata": {},
     "output_type": "execute_result"
    }
   ],
   "source": [
    "player_stats_stand_17_18.columns"
   ]
  },
  {
   "cell_type": "code",
   "execution_count": 6,
   "metadata": {},
   "outputs": [],
   "source": [
    "player_stats_stand_17_18.reset_index(inplace=True) \n",
    "player_stats_stand_17_18.columns = ['Player Name', 'League', 'Position', 'Age', 'Matches Played', 'Starts',\n",
    "       '90s Played', 'Goals', 'Assists', 'Yellow Cards', 'Red Cards']"
   ]
  },
  {
   "cell_type": "markdown",
   "metadata": {},
   "source": [
    "### 1.1 Create the same standard stats dataframes for 2018-2019, 2019-2020, and 2020-2021 seasons"
   ]
  },
  {
   "cell_type": "code",
   "execution_count": 7,
   "metadata": {},
   "outputs": [],
   "source": [
    "player_stats_stand_18_19 = su.standard_table('https://fbref.com/en/comps/Big5/2018-2019/stats/players/2018-2019-Big-5-European-Leagues-Stats')"
   ]
  },
  {
   "cell_type": "code",
   "execution_count": 8,
   "metadata": {},
   "outputs": [],
   "source": [
    "player_stats_stand_18_19['League'] = player_stats_stand_18_19['League'].apply(su.convert_league)\n",
    "player_stats_stand_18_19['Age'] = player_stats_stand_18_19['Age'].apply(su.convert_int)\n",
    "player_stats_stand_18_19.dropna(inplace=True) # only one player with NaN for Age so simply drop those rows"
   ]
  },
  {
   "cell_type": "code",
   "execution_count": 9,
   "metadata": {},
   "outputs": [],
   "source": [
    "player_stats_stand_18_19.reset_index(inplace=True)\n",
    "player_stats_stand_18_19.columns = ['Player Name', 'League', 'Position', 'Age', 'Matches Played', 'Starts',\n",
    "       '90s Played', 'Goals', 'Assists', 'Yellow Cards', 'Red Cards']"
   ]
  },
  {
   "cell_type": "code",
   "execution_count": 10,
   "metadata": {},
   "outputs": [],
   "source": [
    "player_stats_stand_19_20 = su.standard_table('https://fbref.com/en/comps/Big5/2019-2020/stats/players/2019-2020-Big-5-European-Leagues-Stats')"
   ]
  },
  {
   "cell_type": "code",
   "execution_count": 11,
   "metadata": {},
   "outputs": [],
   "source": [
    "player_stats_stand_19_20['League'] = player_stats_stand_19_20['League'].apply(su.convert_league)\n",
    "player_stats_stand_19_20['Age'] = player_stats_stand_19_20['Age'].apply(su.convert_int)"
   ]
  },
  {
   "cell_type": "code",
   "execution_count": 12,
   "metadata": {},
   "outputs": [
    {
     "data": {
      "text/html": [
       "<div>\n",
       "<style scoped>\n",
       "    .dataframe tbody tr th:only-of-type {\n",
       "        vertical-align: middle;\n",
       "    }\n",
       "\n",
       "    .dataframe tbody tr th {\n",
       "        vertical-align: top;\n",
       "    }\n",
       "\n",
       "    .dataframe thead th {\n",
       "        text-align: right;\n",
       "    }\n",
       "</style>\n",
       "<table border=\"1\" class=\"dataframe\">\n",
       "  <thead>\n",
       "    <tr style=\"text-align: right;\">\n",
       "      <th></th>\n",
       "      <th>League</th>\n",
       "      <th>Position</th>\n",
       "      <th>Age</th>\n",
       "      <th>Matches Played</th>\n",
       "      <th>Starts</th>\n",
       "      <th>90s Played</th>\n",
       "      <th>Goals</th>\n",
       "      <th>Assists</th>\n",
       "      <th>Yellow Cards</th>\n",
       "      <th>Red Cards</th>\n",
       "    </tr>\n",
       "  </thead>\n",
       "  <tbody>\n",
       "  </tbody>\n",
       "</table>\n",
       "</div>"
      ],
      "text/plain": [
       "Empty DataFrame\n",
       "Columns: [League, Position, Age, Matches Played, Starts, 90s Played, Goals, Assists, Yellow Cards, Red Cards]\n",
       "Index: []"
      ]
     },
     "execution_count": 12,
     "metadata": {},
     "output_type": "execute_result"
    }
   ],
   "source": [
    "player_stats_stand_19_20[player_stats_stand_19_20['Age'].isnull()]"
   ]
  },
  {
   "cell_type": "code",
   "execution_count": 13,
   "metadata": {},
   "outputs": [],
   "source": [
    "player_stats_stand_19_20.dropna(inplace=True) # only two forwards/midfielders with NaN for Age so simply drop those rows"
   ]
  },
  {
   "cell_type": "code",
   "execution_count": 14,
   "metadata": {},
   "outputs": [],
   "source": [
    "player_stats_stand_19_20.reset_index(inplace=True)\n",
    "player_stats_stand_19_20.columns = ['Player Name', 'League', 'Position', 'Age', 'Matches Played', 'Starts',\n",
    "       '90s Played', 'Goals', 'Assists', 'Yellow Cards', 'Red Cards']"
   ]
  },
  {
   "cell_type": "code",
   "execution_count": 15,
   "metadata": {},
   "outputs": [],
   "source": [
    "player_stats_stand_20_21 = su.standard_table('https://fbref.com/en/comps/Big5/2020-2021/stats/players/2010-2021-Big-5-European-Leagues-Stats')"
   ]
  },
  {
   "cell_type": "code",
   "execution_count": 16,
   "metadata": {},
   "outputs": [],
   "source": [
    "player_stats_stand_20_21['League'] = player_stats_stand_20_21['League'].apply(su.convert_league)\n",
    "player_stats_stand_20_21['Age'] = player_stats_stand_20_21['Age'].apply(lambda string: int(string[0:2]) if len(string[0:2])==2 else np.nan)"
   ]
  },
  {
   "cell_type": "code",
   "execution_count": 17,
   "metadata": {},
   "outputs": [
    {
     "data": {
      "text/html": [
       "<div>\n",
       "<style scoped>\n",
       "    .dataframe tbody tr th:only-of-type {\n",
       "        vertical-align: middle;\n",
       "    }\n",
       "\n",
       "    .dataframe tbody tr th {\n",
       "        vertical-align: top;\n",
       "    }\n",
       "\n",
       "    .dataframe thead th {\n",
       "        text-align: right;\n",
       "    }\n",
       "</style>\n",
       "<table border=\"1\" class=\"dataframe\">\n",
       "  <thead>\n",
       "    <tr style=\"text-align: right;\">\n",
       "      <th></th>\n",
       "      <th>League</th>\n",
       "      <th>Position</th>\n",
       "      <th>Age</th>\n",
       "      <th>Matches Played</th>\n",
       "      <th>Starts</th>\n",
       "      <th>90s Played</th>\n",
       "      <th>Goals</th>\n",
       "      <th>Assists</th>\n",
       "      <th>Yellow Cards</th>\n",
       "      <th>Red Cards</th>\n",
       "    </tr>\n",
       "  </thead>\n",
       "  <tbody>\n",
       "  </tbody>\n",
       "</table>\n",
       "</div>"
      ],
      "text/plain": [
       "Empty DataFrame\n",
       "Columns: [League, Position, Age, Matches Played, Starts, 90s Played, Goals, Assists, Yellow Cards, Red Cards]\n",
       "Index: []"
      ]
     },
     "execution_count": 17,
     "metadata": {},
     "output_type": "execute_result"
    }
   ],
   "source": [
    "player_stats_stand_20_21[player_stats_stand_20_21['Age'].isnull()]"
   ]
  },
  {
   "cell_type": "code",
   "execution_count": 18,
   "metadata": {},
   "outputs": [],
   "source": [
    "player_stats_stand_20_21.dropna(inplace=True)"
   ]
  },
  {
   "cell_type": "code",
   "execution_count": 19,
   "metadata": {},
   "outputs": [],
   "source": [
    "player_stats_stand_20_21.reset_index(inplace=True)\n",
    "player_stats_stand_20_21.columns = ['Player Name', 'League', 'Position', 'Age', 'Matches Played', 'Starts',\n",
    "       '90s Played', 'Goals', 'Assists', 'Yellow Cards', 'Red Cards']"
   ]
  },
  {
   "cell_type": "markdown",
   "metadata": {},
   "source": [
    "### 1.2 Combine the dataframes and sum the numerical stats (for age, take the most recent value)"
   ]
  },
  {
   "cell_type": "code",
   "execution_count": 20,
   "metadata": {},
   "outputs": [],
   "source": [
    "player_stats_stand_dup = pd.concat([player_stats_stand_17_18, player_stats_stand_18_19, player_stats_stand_19_20, player_stats_stand_20_21]).sort_values(by=['Player Name','Age'])"
   ]
  },
  {
   "cell_type": "code",
   "execution_count": 21,
   "metadata": {},
   "outputs": [
    {
     "data": {
      "text/html": [
       "<div>\n",
       "<style scoped>\n",
       "    .dataframe tbody tr th:only-of-type {\n",
       "        vertical-align: middle;\n",
       "    }\n",
       "\n",
       "    .dataframe tbody tr th {\n",
       "        vertical-align: top;\n",
       "    }\n",
       "\n",
       "    .dataframe thead th {\n",
       "        text-align: right;\n",
       "    }\n",
       "</style>\n",
       "<table border=\"1\" class=\"dataframe\">\n",
       "  <thead>\n",
       "    <tr style=\"text-align: right;\">\n",
       "      <th></th>\n",
       "      <th>Player Name</th>\n",
       "      <th>League</th>\n",
       "      <th>Position</th>\n",
       "      <th>Age</th>\n",
       "      <th>Matches Played</th>\n",
       "      <th>Starts</th>\n",
       "      <th>90s Played</th>\n",
       "      <th>Goals</th>\n",
       "      <th>Assists</th>\n",
       "      <th>Yellow Cards</th>\n",
       "      <th>Red Cards</th>\n",
       "    </tr>\n",
       "  </thead>\n",
       "  <tbody>\n",
       "    <tr>\n",
       "      <th>1606</th>\n",
       "      <td>Kylian Mbappé</td>\n",
       "      <td>Ligue 1</td>\n",
       "      <td>FW</td>\n",
       "      <td>18.0</td>\n",
       "      <td>27</td>\n",
       "      <td>24</td>\n",
       "      <td>23.3</td>\n",
       "      <td>13</td>\n",
       "      <td>9</td>\n",
       "      <td>2</td>\n",
       "      <td>0</td>\n",
       "    </tr>\n",
       "    <tr>\n",
       "      <th>1607</th>\n",
       "      <td>Kylian Mbappé</td>\n",
       "      <td>Ligue 1</td>\n",
       "      <td>FW,MF</td>\n",
       "      <td>18.0</td>\n",
       "      <td>1</td>\n",
       "      <td>1</td>\n",
       "      <td>0.8</td>\n",
       "      <td>0</td>\n",
       "      <td>0</td>\n",
       "      <td>0</td>\n",
       "      <td>0</td>\n",
       "    </tr>\n",
       "    <tr>\n",
       "      <th>1573</th>\n",
       "      <td>Kylian Mbappé</td>\n",
       "      <td>Ligue 1</td>\n",
       "      <td>FW</td>\n",
       "      <td>19.0</td>\n",
       "      <td>29</td>\n",
       "      <td>24</td>\n",
       "      <td>26.0</td>\n",
       "      <td>33</td>\n",
       "      <td>7</td>\n",
       "      <td>5</td>\n",
       "      <td>1</td>\n",
       "    </tr>\n",
       "    <tr>\n",
       "      <th>1604</th>\n",
       "      <td>Kylian Mbappé</td>\n",
       "      <td>Ligue 1</td>\n",
       "      <td>FW</td>\n",
       "      <td>20.0</td>\n",
       "      <td>20</td>\n",
       "      <td>17</td>\n",
       "      <td>16.8</td>\n",
       "      <td>18</td>\n",
       "      <td>5</td>\n",
       "      <td>0</td>\n",
       "      <td>0</td>\n",
       "    </tr>\n",
       "    <tr>\n",
       "      <th>1591</th>\n",
       "      <td>Kylian Mbappé</td>\n",
       "      <td>Ligue 1</td>\n",
       "      <td>FW</td>\n",
       "      <td>22.0</td>\n",
       "      <td>25</td>\n",
       "      <td>21</td>\n",
       "      <td>20.7</td>\n",
       "      <td>20</td>\n",
       "      <td>6</td>\n",
       "      <td>3</td>\n",
       "      <td>0</td>\n",
       "    </tr>\n",
       "  </tbody>\n",
       "</table>\n",
       "</div>"
      ],
      "text/plain": [
       "        Player Name   League Position   Age  Matches Played  Starts  \\\n",
       "1606  Kylian Mbappé  Ligue 1       FW  18.0              27      24   \n",
       "1607  Kylian Mbappé  Ligue 1    FW,MF  18.0               1       1   \n",
       "1573  Kylian Mbappé  Ligue 1       FW  19.0              29      24   \n",
       "1604  Kylian Mbappé  Ligue 1       FW  20.0              20      17   \n",
       "1591  Kylian Mbappé  Ligue 1       FW  22.0              25      21   \n",
       "\n",
       "      90s Played  Goals  Assists  Yellow Cards  Red Cards  \n",
       "1606        23.3     13        9             2          0  \n",
       "1607         0.8      0        0             0          0  \n",
       "1573        26.0     33        7             5          1  \n",
       "1604        16.8     18        5             0          0  \n",
       "1591        20.7     20        6             3          0  "
      ]
     },
     "execution_count": 21,
     "metadata": {},
     "output_type": "execute_result"
    }
   ],
   "source": [
    "player_stats_stand_dup[player_stats_stand_dup['Player Name']=='Kylian Mbappé']"
   ]
  },
  {
   "cell_type": "code",
   "execution_count": 22,
   "metadata": {},
   "outputs": [],
   "source": [
    "player_stats_stand = player_stats_stand_dup.groupby('Player Name')[['Matches Played','Starts','90s Played','Goals','Assists','Yellow Cards','Red Cards']].sum().reset_index()"
   ]
  },
  {
   "cell_type": "code",
   "execution_count": 23,
   "metadata": {},
   "outputs": [],
   "source": [
    "player_stats_stand_lastr = player_stats_stand_dup.drop_duplicates(subset='Player Name', keep='last').reset_index(drop=True)"
   ]
  },
  {
   "cell_type": "code",
   "execution_count": 24,
   "metadata": {},
   "outputs": [],
   "source": [
    "player_stats_stand['Age'] = player_stats_stand_lastr['Age']\n",
    "player_stats_stand['League'] = player_stats_stand_lastr['League']\n",
    "player_stats_stand['Position'] = player_stats_stand_lastr['Position']"
   ]
  },
  {
   "cell_type": "code",
   "execution_count": 25,
   "metadata": {},
   "outputs": [],
   "source": [
    "player_stats_stand = pd.DataFrame(player_stats_stand, columns=['Player Name','League', 'Position', 'Age', 'Matches Played', 'Starts', '90s Played', 'Goals',\n",
    "       'Assists', 'Yellow Cards', 'Red Cards'])"
   ]
  },
  {
   "cell_type": "code",
   "execution_count": 26,
   "metadata": {},
   "outputs": [
    {
     "data": {
      "text/html": [
       "<div>\n",
       "<style scoped>\n",
       "    .dataframe tbody tr th:only-of-type {\n",
       "        vertical-align: middle;\n",
       "    }\n",
       "\n",
       "    .dataframe tbody tr th {\n",
       "        vertical-align: top;\n",
       "    }\n",
       "\n",
       "    .dataframe thead th {\n",
       "        text-align: right;\n",
       "    }\n",
       "</style>\n",
       "<table border=\"1\" class=\"dataframe\">\n",
       "  <thead>\n",
       "    <tr style=\"text-align: right;\">\n",
       "      <th></th>\n",
       "      <th>Player Name</th>\n",
       "      <th>League</th>\n",
       "      <th>Position</th>\n",
       "      <th>Age</th>\n",
       "      <th>Matches Played</th>\n",
       "      <th>Starts</th>\n",
       "      <th>90s Played</th>\n",
       "      <th>Goals</th>\n",
       "      <th>Assists</th>\n",
       "      <th>Yellow Cards</th>\n",
       "      <th>Red Cards</th>\n",
       "    </tr>\n",
       "  </thead>\n",
       "  <tbody>\n",
       "    <tr>\n",
       "      <th>2377</th>\n",
       "      <td>Kylian Mbappé</td>\n",
       "      <td>Ligue 1</td>\n",
       "      <td>FW</td>\n",
       "      <td>22.0</td>\n",
       "      <td>102</td>\n",
       "      <td>87</td>\n",
       "      <td>87.6</td>\n",
       "      <td>84</td>\n",
       "      <td>27</td>\n",
       "      <td>10</td>\n",
       "      <td>1</td>\n",
       "    </tr>\n",
       "  </tbody>\n",
       "</table>\n",
       "</div>"
      ],
      "text/plain": [
       "        Player Name   League Position   Age  Matches Played  Starts  \\\n",
       "2377  Kylian Mbappé  Ligue 1       FW  22.0             102      87   \n",
       "\n",
       "      90s Played  Goals  Assists  Yellow Cards  Red Cards  \n",
       "2377        87.6     84       27            10          1  "
      ]
     },
     "execution_count": 26,
     "metadata": {},
     "output_type": "execute_result"
    }
   ],
   "source": [
    "player_stats_stand[player_stats_stand['Player Name']=='Kylian Mbappé']"
   ]
  },
  {
   "cell_type": "code",
   "execution_count": 27,
   "metadata": {},
   "outputs": [
    {
     "data": {
      "text/html": [
       "<div>\n",
       "<style scoped>\n",
       "    .dataframe tbody tr th:only-of-type {\n",
       "        vertical-align: middle;\n",
       "    }\n",
       "\n",
       "    .dataframe tbody tr th {\n",
       "        vertical-align: top;\n",
       "    }\n",
       "\n",
       "    .dataframe thead th {\n",
       "        text-align: right;\n",
       "    }\n",
       "</style>\n",
       "<table border=\"1\" class=\"dataframe\">\n",
       "  <thead>\n",
       "    <tr style=\"text-align: right;\">\n",
       "      <th></th>\n",
       "      <th>Player Name</th>\n",
       "      <th>League</th>\n",
       "      <th>Position</th>\n",
       "      <th>Age</th>\n",
       "      <th>Matches Played</th>\n",
       "      <th>Starts</th>\n",
       "      <th>90s Played</th>\n",
       "      <th>Goals</th>\n",
       "      <th>Assists</th>\n",
       "      <th>Yellow Cards</th>\n",
       "      <th>Red Cards</th>\n",
       "    </tr>\n",
       "  </thead>\n",
       "  <tbody>\n",
       "    <tr>\n",
       "      <th>0</th>\n",
       "      <td>Aaron Connolly</td>\n",
       "      <td>Premier League</td>\n",
       "      <td>FW</td>\n",
       "      <td>21.0</td>\n",
       "      <td>39</td>\n",
       "      <td>23</td>\n",
       "      <td>22.0</td>\n",
       "      <td>5</td>\n",
       "      <td>2</td>\n",
       "      <td>0</td>\n",
       "      <td>0</td>\n",
       "    </tr>\n",
       "    <tr>\n",
       "      <th>1</th>\n",
       "      <td>Aaron Cresswell</td>\n",
       "      <td>Premier League</td>\n",
       "      <td>DF</td>\n",
       "      <td>31.0</td>\n",
       "      <td>116</td>\n",
       "      <td>113</td>\n",
       "      <td>111.1</td>\n",
       "      <td>4</td>\n",
       "      <td>11</td>\n",
       "      <td>17</td>\n",
       "      <td>0</td>\n",
       "    </tr>\n",
       "    <tr>\n",
       "      <th>2</th>\n",
       "      <td>Aaron Hickey</td>\n",
       "      <td>Serie A</td>\n",
       "      <td>DF</td>\n",
       "      <td>18.0</td>\n",
       "      <td>11</td>\n",
       "      <td>10</td>\n",
       "      <td>8.4</td>\n",
       "      <td>0</td>\n",
       "      <td>0</td>\n",
       "      <td>3</td>\n",
       "      <td>1</td>\n",
       "    </tr>\n",
       "    <tr>\n",
       "      <th>3</th>\n",
       "      <td>Aaron Hunt</td>\n",
       "      <td>Bundesliga</td>\n",
       "      <td>MF,FW</td>\n",
       "      <td>30.0</td>\n",
       "      <td>28</td>\n",
       "      <td>26</td>\n",
       "      <td>23.1</td>\n",
       "      <td>3</td>\n",
       "      <td>2</td>\n",
       "      <td>1</td>\n",
       "      <td>0</td>\n",
       "    </tr>\n",
       "    <tr>\n",
       "      <th>4</th>\n",
       "      <td>Aaron Lennon</td>\n",
       "      <td>Premier League</td>\n",
       "      <td>MF</td>\n",
       "      <td>32.0</td>\n",
       "      <td>61</td>\n",
       "      <td>40</td>\n",
       "      <td>40.2</td>\n",
       "      <td>1</td>\n",
       "      <td>3</td>\n",
       "      <td>7</td>\n",
       "      <td>0</td>\n",
       "    </tr>\n",
       "    <tr>\n",
       "      <th>...</th>\n",
       "      <td>...</td>\n",
       "      <td>...</td>\n",
       "      <td>...</td>\n",
       "      <td>...</td>\n",
       "      <td>...</td>\n",
       "      <td>...</td>\n",
       "      <td>...</td>\n",
       "      <td>...</td>\n",
       "      <td>...</td>\n",
       "      <td>...</td>\n",
       "      <td>...</td>\n",
       "    </tr>\n",
       "    <tr>\n",
       "      <th>4546</th>\n",
       "      <td>Łukasz Teodorczyk</td>\n",
       "      <td>Serie A</td>\n",
       "      <td>FW</td>\n",
       "      <td>28.0</td>\n",
       "      <td>30</td>\n",
       "      <td>3</td>\n",
       "      <td>6.9</td>\n",
       "      <td>1</td>\n",
       "      <td>1</td>\n",
       "      <td>2</td>\n",
       "      <td>0</td>\n",
       "    </tr>\n",
       "    <tr>\n",
       "      <th>4547</th>\n",
       "      <td>Šime Vrsaljko</td>\n",
       "      <td>La Liga</td>\n",
       "      <td>DF</td>\n",
       "      <td>29.0</td>\n",
       "      <td>44</td>\n",
       "      <td>37</td>\n",
       "      <td>36.6</td>\n",
       "      <td>0</td>\n",
       "      <td>7</td>\n",
       "      <td>14</td>\n",
       "      <td>0</td>\n",
       "    </tr>\n",
       "    <tr>\n",
       "      <th>4548</th>\n",
       "      <td>Žan Celar</td>\n",
       "      <td>Serie A</td>\n",
       "      <td>FW</td>\n",
       "      <td>19.0</td>\n",
       "      <td>1</td>\n",
       "      <td>0</td>\n",
       "      <td>0.1</td>\n",
       "      <td>0</td>\n",
       "      <td>0</td>\n",
       "      <td>0</td>\n",
       "      <td>0</td>\n",
       "    </tr>\n",
       "    <tr>\n",
       "      <th>4549</th>\n",
       "      <td>Žan Majer</td>\n",
       "      <td>Serie A</td>\n",
       "      <td>MF</td>\n",
       "      <td>27.0</td>\n",
       "      <td>27</td>\n",
       "      <td>19</td>\n",
       "      <td>18.5</td>\n",
       "      <td>1</td>\n",
       "      <td>1</td>\n",
       "      <td>7</td>\n",
       "      <td>0</td>\n",
       "    </tr>\n",
       "    <tr>\n",
       "      <th>4550</th>\n",
       "      <td>Ștefan Radu</td>\n",
       "      <td>Serie A</td>\n",
       "      <td>DF</td>\n",
       "      <td>34.0</td>\n",
       "      <td>108</td>\n",
       "      <td>106</td>\n",
       "      <td>96.5</td>\n",
       "      <td>1</td>\n",
       "      <td>4</td>\n",
       "      <td>23</td>\n",
       "      <td>2</td>\n",
       "    </tr>\n",
       "  </tbody>\n",
       "</table>\n",
       "<p>4551 rows × 11 columns</p>\n",
       "</div>"
      ],
      "text/plain": [
       "            Player Name          League Position   Age  Matches Played  \\\n",
       "0        Aaron Connolly  Premier League       FW  21.0              39   \n",
       "1       Aaron Cresswell  Premier League       DF  31.0             116   \n",
       "2          Aaron Hickey         Serie A       DF  18.0              11   \n",
       "3            Aaron Hunt      Bundesliga    MF,FW  30.0              28   \n",
       "4          Aaron Lennon  Premier League       MF  32.0              61   \n",
       "...                 ...             ...      ...   ...             ...   \n",
       "4546  Łukasz Teodorczyk         Serie A       FW  28.0              30   \n",
       "4547      Šime Vrsaljko         La Liga       DF  29.0              44   \n",
       "4548          Žan Celar         Serie A       FW  19.0               1   \n",
       "4549          Žan Majer         Serie A       MF  27.0              27   \n",
       "4550        Ștefan Radu         Serie A       DF  34.0             108   \n",
       "\n",
       "      Starts  90s Played  Goals  Assists  Yellow Cards  Red Cards  \n",
       "0         23        22.0      5        2             0          0  \n",
       "1        113       111.1      4       11            17          0  \n",
       "2         10         8.4      0        0             3          1  \n",
       "3         26        23.1      3        2             1          0  \n",
       "4         40        40.2      1        3             7          0  \n",
       "...      ...         ...    ...      ...           ...        ...  \n",
       "4546       3         6.9      1        1             2          0  \n",
       "4547      37        36.6      0        7            14          0  \n",
       "4548       0         0.1      0        0             0          0  \n",
       "4549      19        18.5      1        1             7          0  \n",
       "4550     106        96.5      1        4            23          2  \n",
       "\n",
       "[4551 rows x 11 columns]"
      ]
     },
     "execution_count": 27,
     "metadata": {},
     "output_type": "execute_result"
    }
   ],
   "source": [
    "player_stats_stand"
   ]
  },
  {
   "cell_type": "markdown",
   "metadata": {},
   "source": [
    "### 1.3 Save the standard stats dataframes as .csv files"
   ]
  },
  {
   "cell_type": "code",
   "execution_count": 33,
   "metadata": {},
   "outputs": [],
   "source": [
    "player_stats_stand_17_18.to_csv('../Data/player_stats_stand_17_18.csv', index=False)\n",
    "player_stats_stand_18_19.to_csv('../Data/player_stats_stand_18_19.csv', index=False)\n",
    "player_stats_stand_19_20.to_csv('../Data/player_stats_stand_19_20.csv', index=False)\n",
    "player_stats_stand_20_21.to_csv('../Data/player_stats_stand_20_21.csv', index=False)\n",
    "player_stats_stand.to_csv('../Data/player_stats_stand.csv', index=False)"
   ]
  },
  {
   "cell_type": "code",
   "execution_count": null,
   "metadata": {},
   "outputs": [],
   "source": []
  },
  {
   "cell_type": "markdown",
   "metadata": {},
   "source": [
    "### 2. Shooting Stats - Total Shots, Shots on Target"
   ]
  },
  {
   "cell_type": "code",
   "execution_count": 28,
   "metadata": {},
   "outputs": [],
   "source": [
    "player_stats_shoot_17_18 = su.shooting_table('https://fbref.com/en/comps/Big5/2017-2018/shooting/players/2017-2018-Big-5-European-Leagues-Stats')"
   ]
  },
  {
   "cell_type": "code",
   "execution_count": 29,
   "metadata": {},
   "outputs": [],
   "source": [
    "player_stats_shoot_17_18['Total Shots'] = player_stats_shoot_17_18['Total Shots'].apply(su.convert_int)\n",
    "player_stats_shoot_17_18.dropna(inplace=True) "
   ]
  },
  {
   "cell_type": "code",
   "execution_count": 30,
   "metadata": {},
   "outputs": [],
   "source": [
    "player_stats_shoot_17_18.reset_index(inplace=True) \n",
    "player_stats_shoot_17_18.columns = ['Player Name', 'Total Shots', 'Shots on Target']"
   ]
  },
  {
   "cell_type": "markdown",
   "metadata": {},
   "source": [
    "### 2.1 Create the same shooting stats dataframes for 2018-2019, 2019-2020, and 2020-2021 seasons"
   ]
  },
  {
   "cell_type": "code",
   "execution_count": 31,
   "metadata": {},
   "outputs": [],
   "source": [
    "player_stats_shoot_18_19 = su.shooting_table('https://fbref.com/en/comps/Big5/2018-2019/shooting/players/2018-2019-Big-5-European-Leagues-Stats')"
   ]
  },
  {
   "cell_type": "code",
   "execution_count": 32,
   "metadata": {},
   "outputs": [],
   "source": [
    "player_stats_shoot_18_19['Total Shots'] = player_stats_shoot_18_19['Total Shots'].apply(su.convert_int)"
   ]
  },
  {
   "cell_type": "code",
   "execution_count": 33,
   "metadata": {},
   "outputs": [],
   "source": [
    "player_stats_shoot_18_19.reset_index(inplace=True) \n",
    "player_stats_shoot_18_19.columns = ['Player Name', 'Total Shots', 'Shots on Target']"
   ]
  },
  {
   "cell_type": "code",
   "execution_count": 34,
   "metadata": {},
   "outputs": [],
   "source": [
    "player_stats_shoot_19_20 = su.shooting_table('https://fbref.com/en/comps/Big5/2019-2020/shooting/players/2019-2020-Big-5-European-Leagues-Stats')"
   ]
  },
  {
   "cell_type": "code",
   "execution_count": 35,
   "metadata": {},
   "outputs": [],
   "source": [
    "player_stats_shoot_19_20['Total Shots'] = player_stats_shoot_19_20['Total Shots'].apply(su.convert_int)"
   ]
  },
  {
   "cell_type": "code",
   "execution_count": 36,
   "metadata": {},
   "outputs": [],
   "source": [
    "player_stats_shoot_19_20.reset_index(inplace=True) \n",
    "player_stats_shoot_19_20.columns = ['Player Name', 'Total Shots', 'Shots on Target']"
   ]
  },
  {
   "cell_type": "code",
   "execution_count": 37,
   "metadata": {},
   "outputs": [],
   "source": [
    "player_stats_shoot_20_21 = su.shooting_table('https://fbref.com/en/comps/Big5/2020-2021/shooting/players/2020-2021-Big-5-European-Leagues-Stats')"
   ]
  },
  {
   "cell_type": "code",
   "execution_count": 38,
   "metadata": {},
   "outputs": [],
   "source": [
    "player_stats_shoot_20_21['Total Shots'] = player_stats_shoot_20_21['Total Shots'].apply(su.convert_int)"
   ]
  },
  {
   "cell_type": "code",
   "execution_count": 39,
   "metadata": {},
   "outputs": [],
   "source": [
    "player_stats_shoot_20_21.reset_index(inplace=True) \n",
    "player_stats_shoot_20_21.columns = ['Player Name', 'Total Shots', 'Shots on Target']"
   ]
  },
  {
   "cell_type": "markdown",
   "metadata": {},
   "source": [
    "### 2.2 Combine the dataframes and sum the numerical stats "
   ]
  },
  {
   "cell_type": "code",
   "execution_count": 40,
   "metadata": {},
   "outputs": [],
   "source": [
    "player_stats_shoot_dup = pd.concat([player_stats_shoot_17_18, player_stats_shoot_18_19, player_stats_shoot_19_20, player_stats_shoot_20_21]).sort_values(by='Player Name')"
   ]
  },
  {
   "cell_type": "code",
   "execution_count": 41,
   "metadata": {},
   "outputs": [],
   "source": [
    "player_stats_shoot1 = player_stats_shoot_dup.groupby('Player Name')['Total Shots'].sum().reset_index()\n",
    "player_stats_shoot2 = player_stats_shoot_dup.groupby('Player Name')['Shots on Target'].sum().reset_index()\n",
    "player_stats_shoot = player_stats_shoot1.merge(player_stats_shoot2, on='Player Name')"
   ]
  },
  {
   "cell_type": "code",
   "execution_count": 42,
   "metadata": {},
   "outputs": [
    {
     "data": {
      "text/html": [
       "<div>\n",
       "<style scoped>\n",
       "    .dataframe tbody tr th:only-of-type {\n",
       "        vertical-align: middle;\n",
       "    }\n",
       "\n",
       "    .dataframe tbody tr th {\n",
       "        vertical-align: top;\n",
       "    }\n",
       "\n",
       "    .dataframe thead th {\n",
       "        text-align: right;\n",
       "    }\n",
       "</style>\n",
       "<table border=\"1\" class=\"dataframe\">\n",
       "  <thead>\n",
       "    <tr style=\"text-align: right;\">\n",
       "      <th></th>\n",
       "      <th>Player Name</th>\n",
       "      <th>Total Shots</th>\n",
       "      <th>Shots on Target</th>\n",
       "    </tr>\n",
       "  </thead>\n",
       "  <tbody>\n",
       "    <tr>\n",
       "      <th>0</th>\n",
       "      <td>Aaron Connolly</td>\n",
       "      <td>59.0</td>\n",
       "      <td>21</td>\n",
       "    </tr>\n",
       "    <tr>\n",
       "      <th>1</th>\n",
       "      <td>Aaron Cresswell</td>\n",
       "      <td>65.0</td>\n",
       "      <td>15</td>\n",
       "    </tr>\n",
       "    <tr>\n",
       "      <th>2</th>\n",
       "      <td>Aaron Hickey</td>\n",
       "      <td>3.0</td>\n",
       "      <td>1</td>\n",
       "    </tr>\n",
       "    <tr>\n",
       "      <th>3</th>\n",
       "      <td>Aaron Hunt</td>\n",
       "      <td>27.0</td>\n",
       "      <td>6</td>\n",
       "    </tr>\n",
       "    <tr>\n",
       "      <th>4</th>\n",
       "      <td>Aaron Lennon</td>\n",
       "      <td>19.0</td>\n",
       "      <td>7</td>\n",
       "    </tr>\n",
       "    <tr>\n",
       "      <th>...</th>\n",
       "      <td>...</td>\n",
       "      <td>...</td>\n",
       "      <td>...</td>\n",
       "    </tr>\n",
       "    <tr>\n",
       "      <th>4542</th>\n",
       "      <td>Łukasz Teodorczyk</td>\n",
       "      <td>16.0</td>\n",
       "      <td>4</td>\n",
       "    </tr>\n",
       "    <tr>\n",
       "      <th>4543</th>\n",
       "      <td>Šime Vrsaljko</td>\n",
       "      <td>5.0</td>\n",
       "      <td>1</td>\n",
       "    </tr>\n",
       "    <tr>\n",
       "      <th>4544</th>\n",
       "      <td>Žan Celar</td>\n",
       "      <td>0.0</td>\n",
       "      <td>0</td>\n",
       "    </tr>\n",
       "    <tr>\n",
       "      <th>4545</th>\n",
       "      <td>Žan Majer</td>\n",
       "      <td>20.0</td>\n",
       "      <td>8</td>\n",
       "    </tr>\n",
       "    <tr>\n",
       "      <th>4546</th>\n",
       "      <td>Ștefan Radu</td>\n",
       "      <td>27.0</td>\n",
       "      <td>4</td>\n",
       "    </tr>\n",
       "  </tbody>\n",
       "</table>\n",
       "<p>4547 rows × 3 columns</p>\n",
       "</div>"
      ],
      "text/plain": [
       "            Player Name  Total Shots  Shots on Target\n",
       "0        Aaron Connolly         59.0               21\n",
       "1       Aaron Cresswell         65.0               15\n",
       "2          Aaron Hickey          3.0                1\n",
       "3            Aaron Hunt         27.0                6\n",
       "4          Aaron Lennon         19.0                7\n",
       "...                 ...          ...              ...\n",
       "4542  Łukasz Teodorczyk         16.0                4\n",
       "4543      Šime Vrsaljko          5.0                1\n",
       "4544          Žan Celar          0.0                0\n",
       "4545          Žan Majer         20.0                8\n",
       "4546        Ștefan Radu         27.0                4\n",
       "\n",
       "[4547 rows x 3 columns]"
      ]
     },
     "execution_count": 42,
     "metadata": {},
     "output_type": "execute_result"
    }
   ],
   "source": [
    "player_stats_shoot"
   ]
  },
  {
   "cell_type": "markdown",
   "metadata": {},
   "source": [
    "### 2.3 Save the shooting stats dataframes as .csv files"
   ]
  },
  {
   "cell_type": "code",
   "execution_count": null,
   "metadata": {},
   "outputs": [],
   "source": [
    "player_stats_shoot_17_18.to_csv('../Data/player_stats_shoot_17_18.csv', index=False)\n",
    "player_stats_shoot_18_19.to_csv('../Data/player_stats_shoot_18_19.csv', index=False)\n",
    "player_stats_shoot_19_20.to_csv('../Data/player_stats_shoot_19_20.csv', index=False)\n",
    "player_stats_shoot_20_21.to_csv('../Data/player_stats_shoot_20_21.csv', index=False)\n",
    "player_stats_shoot.to_csv('../Data/player_stats_shoot.csv', index=False)"
   ]
  },
  {
   "cell_type": "code",
   "execution_count": null,
   "metadata": {},
   "outputs": [],
   "source": []
  },
  {
   "cell_type": "markdown",
   "metadata": {},
   "source": [
    "### 3. Passing Stats - Passes Completed, Passes Attempted, Key Passes (passes that directly lead to a shot), Completed Passes into Penalty Area"
   ]
  },
  {
   "cell_type": "code",
   "execution_count": 43,
   "metadata": {},
   "outputs": [],
   "source": [
    "player_stats_pass_17_18 = su.passing_table('https://fbref.com/en/comps/Big5/2017-2018/passing/players/2017-2018-Big-5-European-Leagues-Stats')"
   ]
  },
  {
   "cell_type": "code",
   "execution_count": 44,
   "metadata": {},
   "outputs": [],
   "source": [
    "player_stats_pass_17_18['Passes Completed'] = player_stats_pass_17_18['Passes Completed'].apply(su.convert_int)\n",
    "player_stats_pass_17_18['Passes Attempted'] = player_stats_pass_17_18['Passes Attempted'].apply(su.convert_int)\n",
    "player_stats_pass_17_18['Key Passes'] = player_stats_pass_17_18['Key Passes'].apply(su.convert_int)\n",
    "player_stats_pass_17_18['Completed Passes into PA'] = player_stats_pass_17_18['Completed Passes into PA'].apply(su.convert_int)\n",
    "\n",
    "player_stats_pass_17_18.dropna(inplace=True) "
   ]
  },
  {
   "cell_type": "code",
   "execution_count": 45,
   "metadata": {},
   "outputs": [],
   "source": [
    "player_stats_pass_17_18.reset_index(inplace=True) \n",
    "player_stats_pass_17_18.columns = ['Player Name', 'Passes Completed', 'Passes Attempted', 'Key Passes', 'Completed Passes into PA']"
   ]
  },
  {
   "cell_type": "markdown",
   "metadata": {},
   "source": [
    "### 3.1 Create the same passing stats dataframes for 2018-2019, 2019-2020, and 2020-2021 seasons"
   ]
  },
  {
   "cell_type": "code",
   "execution_count": 46,
   "metadata": {},
   "outputs": [],
   "source": [
    "player_stats_pass_18_19 = su.passing_table('https://fbref.com/en/comps/Big5/2018-2019/passing/players/2018-2019-Big-5-European-Leagues-Stats')"
   ]
  },
  {
   "cell_type": "code",
   "execution_count": 47,
   "metadata": {},
   "outputs": [],
   "source": [
    "player_stats_pass_18_19['Passes Completed'] = player_stats_pass_18_19['Passes Completed'].apply(su.convert_int)\n",
    "player_stats_pass_18_19['Passes Attempted'] = player_stats_pass_18_19['Passes Attempted'].apply(su.convert_int)\n",
    "player_stats_pass_18_19['Key Passes'] = player_stats_pass_18_19['Key Passes'].apply(su.convert_int)\n",
    "player_stats_pass_18_19['Completed Passes into PA'] = player_stats_pass_18_19['Completed Passes into PA'].apply(su.convert_int)\n",
    "\n",
    "player_stats_pass_18_19.dropna(inplace=True) "
   ]
  },
  {
   "cell_type": "code",
   "execution_count": 48,
   "metadata": {},
   "outputs": [],
   "source": [
    "player_stats_pass_18_19.reset_index(inplace=True) \n",
    "player_stats_pass_18_19.columns = ['Player Name', 'Passes Completed', 'Passes Attempted', 'Key Passes', 'Completed Passes into PA']"
   ]
  },
  {
   "cell_type": "code",
   "execution_count": 49,
   "metadata": {},
   "outputs": [],
   "source": [
    "player_stats_pass_19_20 = su.passing_table('https://fbref.com/en/comps/Big5/2019-2020/passing/players/2019-2020-Big-5-European-Leagues-Stats')"
   ]
  },
  {
   "cell_type": "code",
   "execution_count": 50,
   "metadata": {},
   "outputs": [],
   "source": [
    "player_stats_pass_19_20['Passes Completed'] = player_stats_pass_19_20['Passes Completed'].apply(su.convert_int)\n",
    "player_stats_pass_19_20['Passes Attempted'] = player_stats_pass_19_20['Passes Attempted'].apply(su.convert_int)\n",
    "player_stats_pass_19_20['Key Passes'] = player_stats_pass_19_20['Key Passes'].apply(su.convert_int)\n",
    "player_stats_pass_19_20['Completed Passes into PA'] = player_stats_pass_19_20['Completed Passes into PA'].apply(su.convert_int)\n",
    "\n",
    "player_stats_pass_19_20.dropna(inplace=True) "
   ]
  },
  {
   "cell_type": "code",
   "execution_count": 51,
   "metadata": {},
   "outputs": [],
   "source": [
    "player_stats_pass_19_20.reset_index(inplace=True) \n",
    "player_stats_pass_19_20.columns = ['Player Name', 'Passes Completed', 'Passes Attempted', 'Key Passes', 'Completed Passes into PA']"
   ]
  },
  {
   "cell_type": "code",
   "execution_count": 52,
   "metadata": {},
   "outputs": [],
   "source": [
    "player_stats_pass_20_21 = su.passing_table('https://fbref.com/en/comps/Big5/2020-2021/passing/players/2020-2021-Big-5-European-Leagues-Stats')"
   ]
  },
  {
   "cell_type": "code",
   "execution_count": 53,
   "metadata": {},
   "outputs": [],
   "source": [
    "player_stats_pass_20_21['Passes Completed'] = player_stats_pass_20_21['Passes Completed'].apply(su.convert_int)\n",
    "player_stats_pass_20_21['Passes Attempted'] = player_stats_pass_20_21['Passes Attempted'].apply(su.convert_int)\n",
    "player_stats_pass_20_21['Key Passes'] = player_stats_pass_20_21['Key Passes'].apply(su.convert_int)\n",
    "player_stats_pass_20_21['Completed Passes into PA'] = player_stats_pass_20_21['Completed Passes into PA'].apply(su.convert_int)\n",
    "\n",
    "player_stats_pass_20_21.dropna(inplace=True) "
   ]
  },
  {
   "cell_type": "code",
   "execution_count": 54,
   "metadata": {},
   "outputs": [],
   "source": [
    "player_stats_pass_20_21.reset_index(inplace=True) \n",
    "player_stats_pass_20_21.columns = ['Player Name', 'Passes Completed', 'Passes Attempted', 'Key Passes', 'Completed Passes into PA']"
   ]
  },
  {
   "cell_type": "markdown",
   "metadata": {},
   "source": [
    "### 3.2 Combine the dataframes and sum the numerical stats "
   ]
  },
  {
   "cell_type": "code",
   "execution_count": 55,
   "metadata": {},
   "outputs": [],
   "source": [
    "player_stats_pass_dup = pd.concat([player_stats_pass_17_18, player_stats_pass_18_19, player_stats_pass_19_20, player_stats_pass_20_21]).sort_values(by='Player Name')"
   ]
  },
  {
   "cell_type": "code",
   "execution_count": 56,
   "metadata": {},
   "outputs": [],
   "source": [
    "player_stats_pass = player_stats_pass_dup.groupby('Player Name')[['Passes Completed', 'Passes Attempted', 'Key Passes', 'Completed Passes into PA']].sum().reset_index()"
   ]
  },
  {
   "cell_type": "code",
   "execution_count": 57,
   "metadata": {},
   "outputs": [
    {
     "data": {
      "text/html": [
       "<div>\n",
       "<style scoped>\n",
       "    .dataframe tbody tr th:only-of-type {\n",
       "        vertical-align: middle;\n",
       "    }\n",
       "\n",
       "    .dataframe tbody tr th {\n",
       "        vertical-align: top;\n",
       "    }\n",
       "\n",
       "    .dataframe thead th {\n",
       "        text-align: right;\n",
       "    }\n",
       "</style>\n",
       "<table border=\"1\" class=\"dataframe\">\n",
       "  <thead>\n",
       "    <tr style=\"text-align: right;\">\n",
       "      <th></th>\n",
       "      <th>Player Name</th>\n",
       "      <th>Passes Completed</th>\n",
       "      <th>Passes Attempted</th>\n",
       "      <th>Key Passes</th>\n",
       "      <th>Completed Passes into PA</th>\n",
       "    </tr>\n",
       "  </thead>\n",
       "  <tbody>\n",
       "    <tr>\n",
       "      <th>0</th>\n",
       "      <td>Aaron Connolly</td>\n",
       "      <td>198.0</td>\n",
       "      <td>255.0</td>\n",
       "      <td>10.0</td>\n",
       "      <td>3.0</td>\n",
       "    </tr>\n",
       "    <tr>\n",
       "      <th>1</th>\n",
       "      <td>Aaron Cresswell</td>\n",
       "      <td>4529.0</td>\n",
       "      <td>6133.0</td>\n",
       "      <td>121.0</td>\n",
       "      <td>79.0</td>\n",
       "    </tr>\n",
       "    <tr>\n",
       "      <th>2</th>\n",
       "      <td>Aaron Hickey</td>\n",
       "      <td>339.0</td>\n",
       "      <td>404.0</td>\n",
       "      <td>4.0</td>\n",
       "      <td>4.0</td>\n",
       "    </tr>\n",
       "    <tr>\n",
       "      <th>3</th>\n",
       "      <td>Aaron Hunt</td>\n",
       "      <td>883.0</td>\n",
       "      <td>1229.0</td>\n",
       "      <td>65.0</td>\n",
       "      <td>31.0</td>\n",
       "    </tr>\n",
       "    <tr>\n",
       "      <th>4</th>\n",
       "      <td>Aaron Lennon</td>\n",
       "      <td>677.0</td>\n",
       "      <td>955.0</td>\n",
       "      <td>22.0</td>\n",
       "      <td>21.0</td>\n",
       "    </tr>\n",
       "    <tr>\n",
       "      <th>...</th>\n",
       "      <td>...</td>\n",
       "      <td>...</td>\n",
       "      <td>...</td>\n",
       "      <td>...</td>\n",
       "      <td>...</td>\n",
       "    </tr>\n",
       "    <tr>\n",
       "      <th>4540</th>\n",
       "      <td>Łukasz Teodorczyk</td>\n",
       "      <td>109.0</td>\n",
       "      <td>161.0</td>\n",
       "      <td>7.0</td>\n",
       "      <td>2.0</td>\n",
       "    </tr>\n",
       "    <tr>\n",
       "      <th>4541</th>\n",
       "      <td>Šime Vrsaljko</td>\n",
       "      <td>1444.0</td>\n",
       "      <td>1997.0</td>\n",
       "      <td>30.0</td>\n",
       "      <td>46.0</td>\n",
       "    </tr>\n",
       "    <tr>\n",
       "      <th>4542</th>\n",
       "      <td>Žan Celar</td>\n",
       "      <td>0.0</td>\n",
       "      <td>2.0</td>\n",
       "      <td>0.0</td>\n",
       "      <td>0.0</td>\n",
       "    </tr>\n",
       "    <tr>\n",
       "      <th>4543</th>\n",
       "      <td>Žan Majer</td>\n",
       "      <td>593.0</td>\n",
       "      <td>746.0</td>\n",
       "      <td>19.0</td>\n",
       "      <td>16.0</td>\n",
       "    </tr>\n",
       "    <tr>\n",
       "      <th>4544</th>\n",
       "      <td>Ștefan Radu</td>\n",
       "      <td>4607.0</td>\n",
       "      <td>5409.0</td>\n",
       "      <td>43.0</td>\n",
       "      <td>57.0</td>\n",
       "    </tr>\n",
       "  </tbody>\n",
       "</table>\n",
       "<p>4545 rows × 5 columns</p>\n",
       "</div>"
      ],
      "text/plain": [
       "            Player Name  Passes Completed  Passes Attempted  Key Passes  \\\n",
       "0        Aaron Connolly             198.0             255.0        10.0   \n",
       "1       Aaron Cresswell            4529.0            6133.0       121.0   \n",
       "2          Aaron Hickey             339.0             404.0         4.0   \n",
       "3            Aaron Hunt             883.0            1229.0        65.0   \n",
       "4          Aaron Lennon             677.0             955.0        22.0   \n",
       "...                 ...               ...               ...         ...   \n",
       "4540  Łukasz Teodorczyk             109.0             161.0         7.0   \n",
       "4541      Šime Vrsaljko            1444.0            1997.0        30.0   \n",
       "4542          Žan Celar               0.0               2.0         0.0   \n",
       "4543          Žan Majer             593.0             746.0        19.0   \n",
       "4544        Ștefan Radu            4607.0            5409.0        43.0   \n",
       "\n",
       "      Completed Passes into PA  \n",
       "0                          3.0  \n",
       "1                         79.0  \n",
       "2                          4.0  \n",
       "3                         31.0  \n",
       "4                         21.0  \n",
       "...                        ...  \n",
       "4540                       2.0  \n",
       "4541                      46.0  \n",
       "4542                       0.0  \n",
       "4543                      16.0  \n",
       "4544                      57.0  \n",
       "\n",
       "[4545 rows x 5 columns]"
      ]
     },
     "execution_count": 57,
     "metadata": {},
     "output_type": "execute_result"
    }
   ],
   "source": [
    "player_stats_pass"
   ]
  },
  {
   "cell_type": "markdown",
   "metadata": {},
   "source": [
    "### 3.3 Save the passing stats dataframes as .csv files"
   ]
  },
  {
   "cell_type": "code",
   "execution_count": null,
   "metadata": {},
   "outputs": [],
   "source": [
    "player_stats_pass_17_18.to_csv('../Data/player_stats_pass_17_18.csv', index=False)\n",
    "player_stats_pass_18_19.to_csv('../Data/player_stats_pass_18_19.csv', index=False)\n",
    "player_stats_pass_19_20.to_csv('../Data/player_stats_pass_19_20.csv', index=False)\n",
    "player_stats_pass_20_21.to_csv('../Data/player_stats_pass_20_21.csv', index=False)\n",
    "player_stats_pass.to_csv('../Data/player_stats_pass.csv', index=False)"
   ]
  },
  {
   "cell_type": "code",
   "execution_count": null,
   "metadata": {},
   "outputs": [],
   "source": []
  },
  {
   "cell_type": "markdown",
   "metadata": {},
   "source": [
    "### 4. Possession Stats - Number of Players Dribbled Past, Dribbles into Penalty Area\n"
   ]
  },
  {
   "cell_type": "code",
   "execution_count": 58,
   "metadata": {},
   "outputs": [],
   "source": [
    "player_stats_possess_17_18 = su.possession_table('https://fbref.com/en/comps/Big5/2017-2018/possession/players/2017-2018-Big-5-European-Leagues-Stats')"
   ]
  },
  {
   "cell_type": "code",
   "execution_count": 59,
   "metadata": {},
   "outputs": [],
   "source": [
    "player_stats_possess_17_18['Players Dribbled Past'] = player_stats_possess_17_18['Players Dribbled Past'].apply(su.convert_int)\n",
    "player_stats_possess_17_18['Dribbles into PA'] = player_stats_possess_17_18['Dribbles into PA'].apply(su.convert_int)\n",
    "\n",
    "player_stats_possess_17_18.dropna(inplace=True) "
   ]
  },
  {
   "cell_type": "code",
   "execution_count": 60,
   "metadata": {},
   "outputs": [],
   "source": [
    "player_stats_possess_17_18.reset_index(inplace=True) \n",
    "player_stats_possess_17_18.columns = ['Player Name', 'Players Dribbled Past', 'Dribbles into PA']"
   ]
  },
  {
   "cell_type": "markdown",
   "metadata": {},
   "source": [
    "### 4.1 Create the same possession stats dataframes for 2018-2019, 2019-2020, and 2020-2021 seasons"
   ]
  },
  {
   "cell_type": "code",
   "execution_count": 61,
   "metadata": {},
   "outputs": [],
   "source": [
    "player_stats_possess_18_19 = su.possession_table('https://fbref.com/en/comps/Big5/2018-2019/possession/players/2018-2019-Big-5-European-Leagues-Stats')"
   ]
  },
  {
   "cell_type": "code",
   "execution_count": 62,
   "metadata": {},
   "outputs": [],
   "source": [
    "player_stats_possess_18_19['Players Dribbled Past'] = player_stats_possess_18_19['Players Dribbled Past'].apply(su.convert_int)\n",
    "player_stats_possess_18_19['Dribbles into PA'] = player_stats_possess_18_19['Dribbles into PA'].apply(su.convert_int)\n",
    "\n",
    "player_stats_possess_18_19.dropna(inplace=True) "
   ]
  },
  {
   "cell_type": "code",
   "execution_count": 63,
   "metadata": {},
   "outputs": [],
   "source": [
    "player_stats_possess_18_19.reset_index(inplace=True) \n",
    "player_stats_possess_18_19.columns = ['Player Name', 'Players Dribbled Past', 'Dribbles into PA']"
   ]
  },
  {
   "cell_type": "code",
   "execution_count": 64,
   "metadata": {},
   "outputs": [],
   "source": [
    "player_stats_possess_19_20 = su.possession_table('https://fbref.com/en/comps/Big5/2019-2020/possession/players/2019-2020-Big-5-European-Leagues-Stats')"
   ]
  },
  {
   "cell_type": "code",
   "execution_count": 65,
   "metadata": {},
   "outputs": [],
   "source": [
    "player_stats_possess_19_20['Players Dribbled Past'] = player_stats_possess_19_20['Players Dribbled Past'].apply(su.convert_int)\n",
    "player_stats_possess_19_20['Dribbles into PA'] = player_stats_possess_19_20['Dribbles into PA'].apply(su.convert_int)\n",
    "\n",
    "player_stats_possess_19_20.dropna(inplace=True) "
   ]
  },
  {
   "cell_type": "code",
   "execution_count": 66,
   "metadata": {},
   "outputs": [],
   "source": [
    "player_stats_possess_19_20.reset_index(inplace=True) \n",
    "player_stats_possess_19_20.columns = ['Player Name', 'Players Dribbled Past', 'Dribbles into PA']"
   ]
  },
  {
   "cell_type": "code",
   "execution_count": 67,
   "metadata": {},
   "outputs": [],
   "source": [
    "player_stats_possess_20_21 = su.possession_table('https://fbref.com/en/comps/Big5/2020-2021/possession/players/2020-2021-Big-5-European-Leagues-Stats')"
   ]
  },
  {
   "cell_type": "code",
   "execution_count": 68,
   "metadata": {},
   "outputs": [],
   "source": [
    "player_stats_possess_20_21['Players Dribbled Past'] = player_stats_possess_20_21['Players Dribbled Past'].apply(su.convert_int)\n",
    "player_stats_possess_20_21['Dribbles into PA'] = player_stats_possess_20_21['Dribbles into PA'].apply(su.convert_int)\n",
    "\n",
    "player_stats_possess_20_21.dropna(inplace=True) "
   ]
  },
  {
   "cell_type": "code",
   "execution_count": 69,
   "metadata": {},
   "outputs": [],
   "source": [
    "player_stats_possess_20_21.reset_index(inplace=True) \n",
    "player_stats_possess_20_21.columns = ['Player Name', 'Players Dribbled Past', 'Dribbles into PA']"
   ]
  },
  {
   "cell_type": "markdown",
   "metadata": {},
   "source": [
    "### 4.2 Combine the dataframes and sum the numerical stats"
   ]
  },
  {
   "cell_type": "code",
   "execution_count": 70,
   "metadata": {},
   "outputs": [],
   "source": [
    "player_stats_possess_dup = pd.concat([player_stats_possess_17_18, player_stats_possess_18_19, player_stats_possess_19_20, player_stats_possess_20_21]).sort_values(by='Player Name')"
   ]
  },
  {
   "cell_type": "code",
   "execution_count": 71,
   "metadata": {},
   "outputs": [],
   "source": [
    "player_stats_possess = player_stats_possess_dup.groupby('Player Name')[['Players Dribbled Past', 'Dribbles into PA']].sum().reset_index()"
   ]
  },
  {
   "cell_type": "code",
   "execution_count": 72,
   "metadata": {},
   "outputs": [
    {
     "data": {
      "text/html": [
       "<div>\n",
       "<style scoped>\n",
       "    .dataframe tbody tr th:only-of-type {\n",
       "        vertical-align: middle;\n",
       "    }\n",
       "\n",
       "    .dataframe tbody tr th {\n",
       "        vertical-align: top;\n",
       "    }\n",
       "\n",
       "    .dataframe thead th {\n",
       "        text-align: right;\n",
       "    }\n",
       "</style>\n",
       "<table border=\"1\" class=\"dataframe\">\n",
       "  <thead>\n",
       "    <tr style=\"text-align: right;\">\n",
       "      <th></th>\n",
       "      <th>Player Name</th>\n",
       "      <th>Players Dribbled Past</th>\n",
       "      <th>Dribbles into PA</th>\n",
       "    </tr>\n",
       "  </thead>\n",
       "  <tbody>\n",
       "    <tr>\n",
       "      <th>0</th>\n",
       "      <td>Aaron Connolly</td>\n",
       "      <td>12.0</td>\n",
       "      <td>16.0</td>\n",
       "    </tr>\n",
       "    <tr>\n",
       "      <th>1</th>\n",
       "      <td>Aaron Cresswell</td>\n",
       "      <td>44.0</td>\n",
       "      <td>18.0</td>\n",
       "    </tr>\n",
       "    <tr>\n",
       "      <th>2</th>\n",
       "      <td>Aaron Hickey</td>\n",
       "      <td>10.0</td>\n",
       "      <td>2.0</td>\n",
       "    </tr>\n",
       "    <tr>\n",
       "      <th>3</th>\n",
       "      <td>Aaron Hunt</td>\n",
       "      <td>23.0</td>\n",
       "      <td>7.0</td>\n",
       "    </tr>\n",
       "    <tr>\n",
       "      <th>4</th>\n",
       "      <td>Aaron Lennon</td>\n",
       "      <td>38.0</td>\n",
       "      <td>26.0</td>\n",
       "    </tr>\n",
       "    <tr>\n",
       "      <th>...</th>\n",
       "      <td>...</td>\n",
       "      <td>...</td>\n",
       "      <td>...</td>\n",
       "    </tr>\n",
       "    <tr>\n",
       "      <th>4540</th>\n",
       "      <td>Łukasz Teodorczyk</td>\n",
       "      <td>10.0</td>\n",
       "      <td>4.0</td>\n",
       "    </tr>\n",
       "    <tr>\n",
       "      <th>4541</th>\n",
       "      <td>Šime Vrsaljko</td>\n",
       "      <td>11.0</td>\n",
       "      <td>4.0</td>\n",
       "    </tr>\n",
       "    <tr>\n",
       "      <th>4542</th>\n",
       "      <td>Žan Celar</td>\n",
       "      <td>1.0</td>\n",
       "      <td>0.0</td>\n",
       "    </tr>\n",
       "    <tr>\n",
       "      <th>4543</th>\n",
       "      <td>Žan Majer</td>\n",
       "      <td>13.0</td>\n",
       "      <td>7.0</td>\n",
       "    </tr>\n",
       "    <tr>\n",
       "      <th>4544</th>\n",
       "      <td>Ștefan Radu</td>\n",
       "      <td>42.0</td>\n",
       "      <td>8.0</td>\n",
       "    </tr>\n",
       "  </tbody>\n",
       "</table>\n",
       "<p>4545 rows × 3 columns</p>\n",
       "</div>"
      ],
      "text/plain": [
       "            Player Name  Players Dribbled Past  Dribbles into PA\n",
       "0        Aaron Connolly                   12.0              16.0\n",
       "1       Aaron Cresswell                   44.0              18.0\n",
       "2          Aaron Hickey                   10.0               2.0\n",
       "3            Aaron Hunt                   23.0               7.0\n",
       "4          Aaron Lennon                   38.0              26.0\n",
       "...                 ...                    ...               ...\n",
       "4540  Łukasz Teodorczyk                   10.0               4.0\n",
       "4541      Šime Vrsaljko                   11.0               4.0\n",
       "4542          Žan Celar                    1.0               0.0\n",
       "4543          Žan Majer                   13.0               7.0\n",
       "4544        Ștefan Radu                   42.0               8.0\n",
       "\n",
       "[4545 rows x 3 columns]"
      ]
     },
     "execution_count": 72,
     "metadata": {},
     "output_type": "execute_result"
    }
   ],
   "source": [
    "player_stats_possess"
   ]
  },
  {
   "cell_type": "markdown",
   "metadata": {},
   "source": [
    "### 4.3 Save the possession stats dataframes as .csv files"
   ]
  },
  {
   "cell_type": "code",
   "execution_count": null,
   "metadata": {},
   "outputs": [],
   "source": [
    "player_stats_possess_17_18.to_csv('../Data/player_stats_possess_17_18.csv', index=False)\n",
    "player_stats_possess_18_19.to_csv('../Data/player_stats_possess_18_19.csv', index=False)\n",
    "player_stats_possess_19_20.to_csv('../Data/player_stats_possess_19_20.csv', index=False)\n",
    "player_stats_possess_20_21.to_csv('../Data/player_stats_possess_20_21.csv', index=False)\n",
    "player_stats_possess.to_csv('../Data/player_stats_possess.csv', index=False)"
   ]
  },
  {
   "cell_type": "code",
   "execution_count": null,
   "metadata": {},
   "outputs": [],
   "source": []
  },
  {
   "cell_type": "markdown",
   "metadata": {},
   "source": [
    "### 5. Merge all player stats (standard, shooting, passing, and possession) into a single dataframe"
   ]
  },
  {
   "cell_type": "code",
   "execution_count": 73,
   "metadata": {},
   "outputs": [],
   "source": [
    "player_stats_stand.set_index('Player Name', inplace=True)\n",
    "player_stats_shoot.set_index('Player Name', inplace=True)\n",
    "player_stats_pass.set_index('Player Name', inplace=True)\n",
    "player_stats_possess.set_index('Player Name', inplace=True)"
   ]
  },
  {
   "cell_type": "code",
   "execution_count": 74,
   "metadata": {},
   "outputs": [],
   "source": [
    "player_stats_all = pd.concat([player_stats_stand, player_stats_shoot, player_stats_pass, player_stats_possess], axis=1).reset_index()"
   ]
  },
  {
   "cell_type": "code",
   "execution_count": 75,
   "metadata": {},
   "outputs": [],
   "source": [
    "player_stats_all.columns = ['Player Name', 'League', 'Position', 'Age', 'Matches Played', 'Starts',\n",
    "       '90s Played', 'Goals', 'Assists', 'Yellow Cards', 'Red Cards',\n",
    "       'Total Shots', 'Shots on Target', 'Passes Completed',\n",
    "       'Passes Attempted', 'Key Passes', 'Completed Passes into PA',\n",
    "       'Players Dribbled Past', 'Dribbles into PA']"
   ]
  },
  {
   "cell_type": "code",
   "execution_count": 76,
   "metadata": {},
   "outputs": [],
   "source": [
    "player_stats_all.dropna(inplace=True)"
   ]
  },
  {
   "cell_type": "code",
   "execution_count": 77,
   "metadata": {},
   "outputs": [],
   "source": [
    "player_stats_all.reset_index(drop=True, inplace=True)"
   ]
  },
  {
   "cell_type": "code",
   "execution_count": 78,
   "metadata": {},
   "outputs": [
    {
     "data": {
      "text/html": [
       "<div>\n",
       "<style scoped>\n",
       "    .dataframe tbody tr th:only-of-type {\n",
       "        vertical-align: middle;\n",
       "    }\n",
       "\n",
       "    .dataframe tbody tr th {\n",
       "        vertical-align: top;\n",
       "    }\n",
       "\n",
       "    .dataframe thead th {\n",
       "        text-align: right;\n",
       "    }\n",
       "</style>\n",
       "<table border=\"1\" class=\"dataframe\">\n",
       "  <thead>\n",
       "    <tr style=\"text-align: right;\">\n",
       "      <th></th>\n",
       "      <th>Player Name</th>\n",
       "      <th>League</th>\n",
       "      <th>Position</th>\n",
       "      <th>Age</th>\n",
       "      <th>Matches Played</th>\n",
       "      <th>Starts</th>\n",
       "      <th>90s Played</th>\n",
       "      <th>Goals</th>\n",
       "      <th>Assists</th>\n",
       "      <th>Yellow Cards</th>\n",
       "      <th>Red Cards</th>\n",
       "      <th>Total Shots</th>\n",
       "      <th>Shots on Target</th>\n",
       "      <th>Passes Completed</th>\n",
       "      <th>Passes Attempted</th>\n",
       "      <th>Key Passes</th>\n",
       "      <th>Completed Passes into PA</th>\n",
       "      <th>Players Dribbled Past</th>\n",
       "      <th>Dribbles into PA</th>\n",
       "    </tr>\n",
       "  </thead>\n",
       "  <tbody>\n",
       "    <tr>\n",
       "      <th>0</th>\n",
       "      <td>Aaron Connolly</td>\n",
       "      <td>Premier League</td>\n",
       "      <td>FW</td>\n",
       "      <td>21.0</td>\n",
       "      <td>39</td>\n",
       "      <td>23</td>\n",
       "      <td>22.0</td>\n",
       "      <td>5</td>\n",
       "      <td>2</td>\n",
       "      <td>0</td>\n",
       "      <td>0</td>\n",
       "      <td>59.0</td>\n",
       "      <td>21.0</td>\n",
       "      <td>198.0</td>\n",
       "      <td>255.0</td>\n",
       "      <td>10.0</td>\n",
       "      <td>3.0</td>\n",
       "      <td>12.0</td>\n",
       "      <td>16.0</td>\n",
       "    </tr>\n",
       "    <tr>\n",
       "      <th>1</th>\n",
       "      <td>Aaron Cresswell</td>\n",
       "      <td>Premier League</td>\n",
       "      <td>DF</td>\n",
       "      <td>31.0</td>\n",
       "      <td>116</td>\n",
       "      <td>113</td>\n",
       "      <td>111.1</td>\n",
       "      <td>4</td>\n",
       "      <td>11</td>\n",
       "      <td>17</td>\n",
       "      <td>0</td>\n",
       "      <td>65.0</td>\n",
       "      <td>15.0</td>\n",
       "      <td>4529.0</td>\n",
       "      <td>6133.0</td>\n",
       "      <td>121.0</td>\n",
       "      <td>79.0</td>\n",
       "      <td>44.0</td>\n",
       "      <td>18.0</td>\n",
       "    </tr>\n",
       "    <tr>\n",
       "      <th>2</th>\n",
       "      <td>Aaron Hickey</td>\n",
       "      <td>Serie A</td>\n",
       "      <td>DF</td>\n",
       "      <td>18.0</td>\n",
       "      <td>11</td>\n",
       "      <td>10</td>\n",
       "      <td>8.4</td>\n",
       "      <td>0</td>\n",
       "      <td>0</td>\n",
       "      <td>3</td>\n",
       "      <td>1</td>\n",
       "      <td>3.0</td>\n",
       "      <td>1.0</td>\n",
       "      <td>339.0</td>\n",
       "      <td>404.0</td>\n",
       "      <td>4.0</td>\n",
       "      <td>4.0</td>\n",
       "      <td>10.0</td>\n",
       "      <td>2.0</td>\n",
       "    </tr>\n",
       "    <tr>\n",
       "      <th>3</th>\n",
       "      <td>Aaron Hunt</td>\n",
       "      <td>Bundesliga</td>\n",
       "      <td>MF,FW</td>\n",
       "      <td>30.0</td>\n",
       "      <td>28</td>\n",
       "      <td>26</td>\n",
       "      <td>23.1</td>\n",
       "      <td>3</td>\n",
       "      <td>2</td>\n",
       "      <td>1</td>\n",
       "      <td>0</td>\n",
       "      <td>27.0</td>\n",
       "      <td>6.0</td>\n",
       "      <td>883.0</td>\n",
       "      <td>1229.0</td>\n",
       "      <td>65.0</td>\n",
       "      <td>31.0</td>\n",
       "      <td>23.0</td>\n",
       "      <td>7.0</td>\n",
       "    </tr>\n",
       "    <tr>\n",
       "      <th>4</th>\n",
       "      <td>Aaron Lennon</td>\n",
       "      <td>Premier League</td>\n",
       "      <td>MF</td>\n",
       "      <td>32.0</td>\n",
       "      <td>61</td>\n",
       "      <td>40</td>\n",
       "      <td>40.2</td>\n",
       "      <td>1</td>\n",
       "      <td>3</td>\n",
       "      <td>7</td>\n",
       "      <td>0</td>\n",
       "      <td>19.0</td>\n",
       "      <td>7.0</td>\n",
       "      <td>677.0</td>\n",
       "      <td>955.0</td>\n",
       "      <td>22.0</td>\n",
       "      <td>21.0</td>\n",
       "      <td>38.0</td>\n",
       "      <td>26.0</td>\n",
       "    </tr>\n",
       "    <tr>\n",
       "      <th>...</th>\n",
       "      <td>...</td>\n",
       "      <td>...</td>\n",
       "      <td>...</td>\n",
       "      <td>...</td>\n",
       "      <td>...</td>\n",
       "      <td>...</td>\n",
       "      <td>...</td>\n",
       "      <td>...</td>\n",
       "      <td>...</td>\n",
       "      <td>...</td>\n",
       "      <td>...</td>\n",
       "      <td>...</td>\n",
       "      <td>...</td>\n",
       "      <td>...</td>\n",
       "      <td>...</td>\n",
       "      <td>...</td>\n",
       "      <td>...</td>\n",
       "      <td>...</td>\n",
       "      <td>...</td>\n",
       "    </tr>\n",
       "    <tr>\n",
       "      <th>4540</th>\n",
       "      <td>Łukasz Teodorczyk</td>\n",
       "      <td>Serie A</td>\n",
       "      <td>FW</td>\n",
       "      <td>28.0</td>\n",
       "      <td>30</td>\n",
       "      <td>3</td>\n",
       "      <td>6.9</td>\n",
       "      <td>1</td>\n",
       "      <td>1</td>\n",
       "      <td>2</td>\n",
       "      <td>0</td>\n",
       "      <td>16.0</td>\n",
       "      <td>4.0</td>\n",
       "      <td>109.0</td>\n",
       "      <td>161.0</td>\n",
       "      <td>7.0</td>\n",
       "      <td>2.0</td>\n",
       "      <td>10.0</td>\n",
       "      <td>4.0</td>\n",
       "    </tr>\n",
       "    <tr>\n",
       "      <th>4541</th>\n",
       "      <td>Šime Vrsaljko</td>\n",
       "      <td>La Liga</td>\n",
       "      <td>DF</td>\n",
       "      <td>29.0</td>\n",
       "      <td>44</td>\n",
       "      <td>37</td>\n",
       "      <td>36.6</td>\n",
       "      <td>0</td>\n",
       "      <td>7</td>\n",
       "      <td>14</td>\n",
       "      <td>0</td>\n",
       "      <td>5.0</td>\n",
       "      <td>1.0</td>\n",
       "      <td>1444.0</td>\n",
       "      <td>1997.0</td>\n",
       "      <td>30.0</td>\n",
       "      <td>46.0</td>\n",
       "      <td>11.0</td>\n",
       "      <td>4.0</td>\n",
       "    </tr>\n",
       "    <tr>\n",
       "      <th>4542</th>\n",
       "      <td>Žan Celar</td>\n",
       "      <td>Serie A</td>\n",
       "      <td>FW</td>\n",
       "      <td>19.0</td>\n",
       "      <td>1</td>\n",
       "      <td>0</td>\n",
       "      <td>0.1</td>\n",
       "      <td>0</td>\n",
       "      <td>0</td>\n",
       "      <td>0</td>\n",
       "      <td>0</td>\n",
       "      <td>0.0</td>\n",
       "      <td>0.0</td>\n",
       "      <td>0.0</td>\n",
       "      <td>2.0</td>\n",
       "      <td>0.0</td>\n",
       "      <td>0.0</td>\n",
       "      <td>1.0</td>\n",
       "      <td>0.0</td>\n",
       "    </tr>\n",
       "    <tr>\n",
       "      <th>4543</th>\n",
       "      <td>Žan Majer</td>\n",
       "      <td>Serie A</td>\n",
       "      <td>MF</td>\n",
       "      <td>27.0</td>\n",
       "      <td>27</td>\n",
       "      <td>19</td>\n",
       "      <td>18.5</td>\n",
       "      <td>1</td>\n",
       "      <td>1</td>\n",
       "      <td>7</td>\n",
       "      <td>0</td>\n",
       "      <td>20.0</td>\n",
       "      <td>8.0</td>\n",
       "      <td>593.0</td>\n",
       "      <td>746.0</td>\n",
       "      <td>19.0</td>\n",
       "      <td>16.0</td>\n",
       "      <td>13.0</td>\n",
       "      <td>7.0</td>\n",
       "    </tr>\n",
       "    <tr>\n",
       "      <th>4544</th>\n",
       "      <td>Ștefan Radu</td>\n",
       "      <td>Serie A</td>\n",
       "      <td>DF</td>\n",
       "      <td>34.0</td>\n",
       "      <td>108</td>\n",
       "      <td>106</td>\n",
       "      <td>96.5</td>\n",
       "      <td>1</td>\n",
       "      <td>4</td>\n",
       "      <td>23</td>\n",
       "      <td>2</td>\n",
       "      <td>27.0</td>\n",
       "      <td>4.0</td>\n",
       "      <td>4607.0</td>\n",
       "      <td>5409.0</td>\n",
       "      <td>43.0</td>\n",
       "      <td>57.0</td>\n",
       "      <td>42.0</td>\n",
       "      <td>8.0</td>\n",
       "    </tr>\n",
       "  </tbody>\n",
       "</table>\n",
       "<p>4545 rows × 19 columns</p>\n",
       "</div>"
      ],
      "text/plain": [
       "            Player Name          League Position   Age  Matches Played  \\\n",
       "0        Aaron Connolly  Premier League       FW  21.0              39   \n",
       "1       Aaron Cresswell  Premier League       DF  31.0             116   \n",
       "2          Aaron Hickey         Serie A       DF  18.0              11   \n",
       "3            Aaron Hunt      Bundesliga    MF,FW  30.0              28   \n",
       "4          Aaron Lennon  Premier League       MF  32.0              61   \n",
       "...                 ...             ...      ...   ...             ...   \n",
       "4540  Łukasz Teodorczyk         Serie A       FW  28.0              30   \n",
       "4541      Šime Vrsaljko         La Liga       DF  29.0              44   \n",
       "4542          Žan Celar         Serie A       FW  19.0               1   \n",
       "4543          Žan Majer         Serie A       MF  27.0              27   \n",
       "4544        Ștefan Radu         Serie A       DF  34.0             108   \n",
       "\n",
       "      Starts  90s Played  Goals  Assists  Yellow Cards  Red Cards  \\\n",
       "0         23        22.0      5        2             0          0   \n",
       "1        113       111.1      4       11            17          0   \n",
       "2         10         8.4      0        0             3          1   \n",
       "3         26        23.1      3        2             1          0   \n",
       "4         40        40.2      1        3             7          0   \n",
       "...      ...         ...    ...      ...           ...        ...   \n",
       "4540       3         6.9      1        1             2          0   \n",
       "4541      37        36.6      0        7            14          0   \n",
       "4542       0         0.1      0        0             0          0   \n",
       "4543      19        18.5      1        1             7          0   \n",
       "4544     106        96.5      1        4            23          2   \n",
       "\n",
       "      Total Shots  Shots on Target  Passes Completed  Passes Attempted  \\\n",
       "0            59.0             21.0             198.0             255.0   \n",
       "1            65.0             15.0            4529.0            6133.0   \n",
       "2             3.0              1.0             339.0             404.0   \n",
       "3            27.0              6.0             883.0            1229.0   \n",
       "4            19.0              7.0             677.0             955.0   \n",
       "...           ...              ...               ...               ...   \n",
       "4540         16.0              4.0             109.0             161.0   \n",
       "4541          5.0              1.0            1444.0            1997.0   \n",
       "4542          0.0              0.0               0.0               2.0   \n",
       "4543         20.0              8.0             593.0             746.0   \n",
       "4544         27.0              4.0            4607.0            5409.0   \n",
       "\n",
       "      Key Passes  Completed Passes into PA  Players Dribbled Past  \\\n",
       "0           10.0                       3.0                   12.0   \n",
       "1          121.0                      79.0                   44.0   \n",
       "2            4.0                       4.0                   10.0   \n",
       "3           65.0                      31.0                   23.0   \n",
       "4           22.0                      21.0                   38.0   \n",
       "...          ...                       ...                    ...   \n",
       "4540         7.0                       2.0                   10.0   \n",
       "4541        30.0                      46.0                   11.0   \n",
       "4542         0.0                       0.0                    1.0   \n",
       "4543        19.0                      16.0                   13.0   \n",
       "4544        43.0                      57.0                   42.0   \n",
       "\n",
       "      Dribbles into PA  \n",
       "0                 16.0  \n",
       "1                 18.0  \n",
       "2                  2.0  \n",
       "3                  7.0  \n",
       "4                 26.0  \n",
       "...                ...  \n",
       "4540               4.0  \n",
       "4541               4.0  \n",
       "4542               0.0  \n",
       "4543               7.0  \n",
       "4544               8.0  \n",
       "\n",
       "[4545 rows x 19 columns]"
      ]
     },
     "execution_count": 78,
     "metadata": {},
     "output_type": "execute_result"
    }
   ],
   "source": [
    "player_stats_all"
   ]
  },
  {
   "cell_type": "code",
   "execution_count": null,
   "metadata": {},
   "outputs": [],
   "source": [
    "player_stats_all.to_csv('../Data/player_stats_all.csv',index=False)"
   ]
  },
  {
   "cell_type": "markdown",
   "metadata": {},
   "source": [
    "### 6. Merge player stats and market values into a final dataframe"
   ]
  },
  {
   "cell_type": "code",
   "execution_count": 79,
   "metadata": {},
   "outputs": [],
   "source": [
    "player_market_values = pd.read_csv('../Data/pmv_table.csv')"
   ]
  },
  {
   "cell_type": "code",
   "execution_count": 80,
   "metadata": {},
   "outputs": [],
   "source": [
    "player_stats_all.set_index('Player Name', inplace=True)\n",
    "player_market_values.set_index('Player Name', inplace=True)"
   ]
  },
  {
   "cell_type": "code",
   "execution_count": 81,
   "metadata": {},
   "outputs": [],
   "source": [
    "player_stats_values_df = pd.concat([player_stats_all,player_market_values], axis=1)"
   ]
  },
  {
   "cell_type": "code",
   "execution_count": 82,
   "metadata": {},
   "outputs": [],
   "source": [
    "player_stats_values_df.dropna(inplace=True)"
   ]
  },
  {
   "cell_type": "code",
   "execution_count": 83,
   "metadata": {},
   "outputs": [],
   "source": [
    "player_stats_values_df = player_stats_values_df.sort_values(by='Current Market Value (USD)', ascending=False).reset_index()\n",
    "player_stats_values_df.columns = ['Player Name', 'League', 'Position', 'Age', 'Matches Played', 'Starts',\n",
    "       '90s Played', 'Goals', 'Assists', 'Yellow Cards', 'Red Cards',\n",
    "       'Total Shots', 'Shots on Target', 'Passes Completed',\n",
    "       'Passes Attempted', 'Key Passes', 'Completed Passes into PA',\n",
    "       'Players Dribbled Past', 'Dribbles into PA',\n",
    "       'Current Market Value (USD)']"
   ]
  },
  {
   "cell_type": "code",
   "execution_count": 84,
   "metadata": {},
   "outputs": [
    {
     "data": {
      "text/html": [
       "<div>\n",
       "<style scoped>\n",
       "    .dataframe tbody tr th:only-of-type {\n",
       "        vertical-align: middle;\n",
       "    }\n",
       "\n",
       "    .dataframe tbody tr th {\n",
       "        vertical-align: top;\n",
       "    }\n",
       "\n",
       "    .dataframe thead th {\n",
       "        text-align: right;\n",
       "    }\n",
       "</style>\n",
       "<table border=\"1\" class=\"dataframe\">\n",
       "  <thead>\n",
       "    <tr style=\"text-align: right;\">\n",
       "      <th></th>\n",
       "      <th>Player Name</th>\n",
       "      <th>League</th>\n",
       "      <th>Position</th>\n",
       "      <th>Age</th>\n",
       "      <th>Matches Played</th>\n",
       "      <th>Starts</th>\n",
       "      <th>90s Played</th>\n",
       "      <th>Goals</th>\n",
       "      <th>Assists</th>\n",
       "      <th>Yellow Cards</th>\n",
       "      <th>Red Cards</th>\n",
       "      <th>Total Shots</th>\n",
       "      <th>Shots on Target</th>\n",
       "      <th>Passes Completed</th>\n",
       "      <th>Passes Attempted</th>\n",
       "      <th>Key Passes</th>\n",
       "      <th>Completed Passes into PA</th>\n",
       "      <th>Players Dribbled Past</th>\n",
       "      <th>Dribbles into PA</th>\n",
       "      <th>Current Market Value (USD)</th>\n",
       "    </tr>\n",
       "  </thead>\n",
       "  <tbody>\n",
       "    <tr>\n",
       "      <th>0</th>\n",
       "      <td>Kylian Mbappé</td>\n",
       "      <td>Ligue 1</td>\n",
       "      <td>FW</td>\n",
       "      <td>22.0</td>\n",
       "      <td>102.0</td>\n",
       "      <td>87.0</td>\n",
       "      <td>87.6</td>\n",
       "      <td>84.0</td>\n",
       "      <td>27.0</td>\n",
       "      <td>10.0</td>\n",
       "      <td>1.0</td>\n",
       "      <td>363.0</td>\n",
       "      <td>183.0</td>\n",
       "      <td>2374.0</td>\n",
       "      <td>3048.0</td>\n",
       "      <td>160.0</td>\n",
       "      <td>136.0</td>\n",
       "      <td>308.0</td>\n",
       "      <td>194.0</td>\n",
       "      <td>198000000.0</td>\n",
       "    </tr>\n",
       "    <tr>\n",
       "      <th>1</th>\n",
       "      <td>Neymar</td>\n",
       "      <td>Ligue 1</td>\n",
       "      <td>FW,MF</td>\n",
       "      <td>29.0</td>\n",
       "      <td>64.0</td>\n",
       "      <td>60.0</td>\n",
       "      <td>60.5</td>\n",
       "      <td>53.0</td>\n",
       "      <td>29.0</td>\n",
       "      <td>15.0</td>\n",
       "      <td>4.0</td>\n",
       "      <td>244.0</td>\n",
       "      <td>101.0</td>\n",
       "      <td>3142.0</td>\n",
       "      <td>4053.0</td>\n",
       "      <td>182.0</td>\n",
       "      <td>259.0</td>\n",
       "      <td>385.0</td>\n",
       "      <td>91.0</td>\n",
       "      <td>140800000.0</td>\n",
       "    </tr>\n",
       "    <tr>\n",
       "      <th>2</th>\n",
       "      <td>Mohamed Salah</td>\n",
       "      <td>Premier League</td>\n",
       "      <td>FW</td>\n",
       "      <td>28.0</td>\n",
       "      <td>136.0</td>\n",
       "      <td>130.0</td>\n",
       "      <td>126.4</td>\n",
       "      <td>90.0</td>\n",
       "      <td>31.0</td>\n",
       "      <td>3.0</td>\n",
       "      <td>0.0</td>\n",
       "      <td>485.0</td>\n",
       "      <td>213.0</td>\n",
       "      <td>3218.0</td>\n",
       "      <td>4207.0</td>\n",
       "      <td>221.0</td>\n",
       "      <td>241.0</td>\n",
       "      <td>293.0</td>\n",
       "      <td>194.0</td>\n",
       "      <td>132000000.0</td>\n",
       "    </tr>\n",
       "    <tr>\n",
       "      <th>3</th>\n",
       "      <td>Kevin De Bruyne</td>\n",
       "      <td>Premier League</td>\n",
       "      <td>MF</td>\n",
       "      <td>29.0</td>\n",
       "      <td>114.0</td>\n",
       "      <td>100.0</td>\n",
       "      <td>96.1</td>\n",
       "      <td>28.0</td>\n",
       "      <td>49.0</td>\n",
       "      <td>8.0</td>\n",
       "      <td>0.0</td>\n",
       "      <td>293.0</td>\n",
       "      <td>98.0</td>\n",
       "      <td>5567.0</td>\n",
       "      <td>7288.0</td>\n",
       "      <td>344.0</td>\n",
       "      <td>364.0</td>\n",
       "      <td>165.0</td>\n",
       "      <td>105.0</td>\n",
       "      <td>132000000.0</td>\n",
       "    </tr>\n",
       "    <tr>\n",
       "      <th>4</th>\n",
       "      <td>Harry Kane</td>\n",
       "      <td>Premier League</td>\n",
       "      <td>FW</td>\n",
       "      <td>27.0</td>\n",
       "      <td>121.0</td>\n",
       "      <td>118.0</td>\n",
       "      <td>116.1</td>\n",
       "      <td>82.0</td>\n",
       "      <td>21.0</td>\n",
       "      <td>15.0</td>\n",
       "      <td>0.0</td>\n",
       "      <td>455.0</td>\n",
       "      <td>181.0</td>\n",
       "      <td>1788.0</td>\n",
       "      <td>2545.0</td>\n",
       "      <td>120.0</td>\n",
       "      <td>92.0</td>\n",
       "      <td>156.0</td>\n",
       "      <td>93.0</td>\n",
       "      <td>132000000.0</td>\n",
       "    </tr>\n",
       "    <tr>\n",
       "      <th>...</th>\n",
       "      <td>...</td>\n",
       "      <td>...</td>\n",
       "      <td>...</td>\n",
       "      <td>...</td>\n",
       "      <td>...</td>\n",
       "      <td>...</td>\n",
       "      <td>...</td>\n",
       "      <td>...</td>\n",
       "      <td>...</td>\n",
       "      <td>...</td>\n",
       "      <td>...</td>\n",
       "      <td>...</td>\n",
       "      <td>...</td>\n",
       "      <td>...</td>\n",
       "      <td>...</td>\n",
       "      <td>...</td>\n",
       "      <td>...</td>\n",
       "      <td>...</td>\n",
       "      <td>...</td>\n",
       "      <td>...</td>\n",
       "    </tr>\n",
       "    <tr>\n",
       "      <th>2163</th>\n",
       "      <td>Pedro López</td>\n",
       "      <td>La Liga</td>\n",
       "      <td>GK</td>\n",
       "      <td>22.0</td>\n",
       "      <td>5.0</td>\n",
       "      <td>4.0</td>\n",
       "      <td>4.6</td>\n",
       "      <td>0.0</td>\n",
       "      <td>0.0</td>\n",
       "      <td>0.0</td>\n",
       "      <td>0.0</td>\n",
       "      <td>0.0</td>\n",
       "      <td>0.0</td>\n",
       "      <td>113.0</td>\n",
       "      <td>143.0</td>\n",
       "      <td>0.0</td>\n",
       "      <td>0.0</td>\n",
       "      <td>0.0</td>\n",
       "      <td>0.0</td>\n",
       "      <td>110000.0</td>\n",
       "    </tr>\n",
       "    <tr>\n",
       "      <th>2164</th>\n",
       "      <td>Federico Ravaglia</td>\n",
       "      <td>Serie A</td>\n",
       "      <td>GK</td>\n",
       "      <td>21.0</td>\n",
       "      <td>1.0</td>\n",
       "      <td>1.0</td>\n",
       "      <td>1.0</td>\n",
       "      <td>0.0</td>\n",
       "      <td>0.0</td>\n",
       "      <td>0.0</td>\n",
       "      <td>0.0</td>\n",
       "      <td>0.0</td>\n",
       "      <td>0.0</td>\n",
       "      <td>29.0</td>\n",
       "      <td>31.0</td>\n",
       "      <td>0.0</td>\n",
       "      <td>0.0</td>\n",
       "      <td>0.0</td>\n",
       "      <td>0.0</td>\n",
       "      <td>110000.0</td>\n",
       "    </tr>\n",
       "    <tr>\n",
       "      <th>2165</th>\n",
       "      <td>Matthew Hoppe</td>\n",
       "      <td>Bundesliga</td>\n",
       "      <td>FW</td>\n",
       "      <td>20.0</td>\n",
       "      <td>16.0</td>\n",
       "      <td>13.0</td>\n",
       "      <td>11.8</td>\n",
       "      <td>5.0</td>\n",
       "      <td>0.0</td>\n",
       "      <td>3.0</td>\n",
       "      <td>0.0</td>\n",
       "      <td>17.0</td>\n",
       "      <td>7.0</td>\n",
       "      <td>151.0</td>\n",
       "      <td>210.0</td>\n",
       "      <td>6.0</td>\n",
       "      <td>6.0</td>\n",
       "      <td>8.0</td>\n",
       "      <td>7.0</td>\n",
       "      <td>110000.0</td>\n",
       "    </tr>\n",
       "    <tr>\n",
       "      <th>2166</th>\n",
       "      <td>Christian Pastina</td>\n",
       "      <td>Serie A</td>\n",
       "      <td>DF</td>\n",
       "      <td>20.0</td>\n",
       "      <td>2.0</td>\n",
       "      <td>0.0</td>\n",
       "      <td>0.8</td>\n",
       "      <td>0.0</td>\n",
       "      <td>1.0</td>\n",
       "      <td>0.0</td>\n",
       "      <td>0.0</td>\n",
       "      <td>0.0</td>\n",
       "      <td>0.0</td>\n",
       "      <td>28.0</td>\n",
       "      <td>36.0</td>\n",
       "      <td>1.0</td>\n",
       "      <td>1.0</td>\n",
       "      <td>0.0</td>\n",
       "      <td>0.0</td>\n",
       "      <td>83000.0</td>\n",
       "    </tr>\n",
       "    <tr>\n",
       "      <th>2167</th>\n",
       "      <td>Marco John</td>\n",
       "      <td>Bundesliga</td>\n",
       "      <td>DF</td>\n",
       "      <td>18.0</td>\n",
       "      <td>11.0</td>\n",
       "      <td>11.0</td>\n",
       "      <td>10.0</td>\n",
       "      <td>0.0</td>\n",
       "      <td>0.0</td>\n",
       "      <td>1.0</td>\n",
       "      <td>0.0</td>\n",
       "      <td>5.0</td>\n",
       "      <td>0.0</td>\n",
       "      <td>377.0</td>\n",
       "      <td>476.0</td>\n",
       "      <td>8.0</td>\n",
       "      <td>16.0</td>\n",
       "      <td>16.0</td>\n",
       "      <td>7.0</td>\n",
       "      <td>28000.0</td>\n",
       "    </tr>\n",
       "  </tbody>\n",
       "</table>\n",
       "<p>2168 rows × 20 columns</p>\n",
       "</div>"
      ],
      "text/plain": [
       "            Player Name          League Position   Age  Matches Played  \\\n",
       "0         Kylian Mbappé         Ligue 1       FW  22.0           102.0   \n",
       "1                Neymar         Ligue 1    FW,MF  29.0            64.0   \n",
       "2         Mohamed Salah  Premier League       FW  28.0           136.0   \n",
       "3       Kevin De Bruyne  Premier League       MF  29.0           114.0   \n",
       "4            Harry Kane  Premier League       FW  27.0           121.0   \n",
       "...                 ...             ...      ...   ...             ...   \n",
       "2163        Pedro López         La Liga       GK  22.0             5.0   \n",
       "2164  Federico Ravaglia         Serie A       GK  21.0             1.0   \n",
       "2165      Matthew Hoppe      Bundesliga       FW  20.0            16.0   \n",
       "2166  Christian Pastina         Serie A       DF  20.0             2.0   \n",
       "2167         Marco John      Bundesliga       DF  18.0            11.0   \n",
       "\n",
       "      Starts  90s Played  Goals  Assists  Yellow Cards  Red Cards  \\\n",
       "0       87.0        87.6   84.0     27.0          10.0        1.0   \n",
       "1       60.0        60.5   53.0     29.0          15.0        4.0   \n",
       "2      130.0       126.4   90.0     31.0           3.0        0.0   \n",
       "3      100.0        96.1   28.0     49.0           8.0        0.0   \n",
       "4      118.0       116.1   82.0     21.0          15.0        0.0   \n",
       "...      ...         ...    ...      ...           ...        ...   \n",
       "2163     4.0         4.6    0.0      0.0           0.0        0.0   \n",
       "2164     1.0         1.0    0.0      0.0           0.0        0.0   \n",
       "2165    13.0        11.8    5.0      0.0           3.0        0.0   \n",
       "2166     0.0         0.8    0.0      1.0           0.0        0.0   \n",
       "2167    11.0        10.0    0.0      0.0           1.0        0.0   \n",
       "\n",
       "      Total Shots  Shots on Target  Passes Completed  Passes Attempted  \\\n",
       "0           363.0            183.0            2374.0            3048.0   \n",
       "1           244.0            101.0            3142.0            4053.0   \n",
       "2           485.0            213.0            3218.0            4207.0   \n",
       "3           293.0             98.0            5567.0            7288.0   \n",
       "4           455.0            181.0            1788.0            2545.0   \n",
       "...           ...              ...               ...               ...   \n",
       "2163          0.0              0.0             113.0             143.0   \n",
       "2164          0.0              0.0              29.0              31.0   \n",
       "2165         17.0              7.0             151.0             210.0   \n",
       "2166          0.0              0.0              28.0              36.0   \n",
       "2167          5.0              0.0             377.0             476.0   \n",
       "\n",
       "      Key Passes  Completed Passes into PA  Players Dribbled Past  \\\n",
       "0          160.0                     136.0                  308.0   \n",
       "1          182.0                     259.0                  385.0   \n",
       "2          221.0                     241.0                  293.0   \n",
       "3          344.0                     364.0                  165.0   \n",
       "4          120.0                      92.0                  156.0   \n",
       "...          ...                       ...                    ...   \n",
       "2163         0.0                       0.0                    0.0   \n",
       "2164         0.0                       0.0                    0.0   \n",
       "2165         6.0                       6.0                    8.0   \n",
       "2166         1.0                       1.0                    0.0   \n",
       "2167         8.0                      16.0                   16.0   \n",
       "\n",
       "      Dribbles into PA  Current Market Value (USD)  \n",
       "0                194.0                 198000000.0  \n",
       "1                 91.0                 140800000.0  \n",
       "2                194.0                 132000000.0  \n",
       "3                105.0                 132000000.0  \n",
       "4                 93.0                 132000000.0  \n",
       "...                ...                         ...  \n",
       "2163               0.0                    110000.0  \n",
       "2164               0.0                    110000.0  \n",
       "2165               7.0                    110000.0  \n",
       "2166               0.0                     83000.0  \n",
       "2167               7.0                     28000.0  \n",
       "\n",
       "[2168 rows x 20 columns]"
      ]
     },
     "execution_count": 84,
     "metadata": {},
     "output_type": "execute_result"
    }
   ],
   "source": [
    "player_stats_values_df"
   ]
  },
  {
   "cell_type": "code",
   "execution_count": null,
   "metadata": {},
   "outputs": [],
   "source": [
    "player_stats_values_df.to_csv('../Data/player_stats_values.csv', index=False)"
   ]
  },
  {
   "cell_type": "code",
   "execution_count": null,
   "metadata": {},
   "outputs": [],
   "source": []
  }
 ],
 "metadata": {
  "kernelspec": {
   "display_name": "Python 3",
   "language": "python",
   "name": "python3"
  },
  "language_info": {
   "codemirror_mode": {
    "name": "ipython",
    "version": 3
   },
   "file_extension": ".py",
   "mimetype": "text/x-python",
   "name": "python",
   "nbconvert_exporter": "python",
   "pygments_lexer": "ipython3",
   "version": "3.8.5"
  }
 },
 "nbformat": 4,
 "nbformat_minor": 4
}
